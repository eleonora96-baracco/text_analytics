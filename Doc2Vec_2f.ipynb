{
 "cells": [
  {
   "cell_type": "code",
   "execution_count": 1,
   "id": "068d7ee5",
   "metadata": {},
   "outputs": [],
   "source": [
    "import pandas as pd\n",
    "import numpy as np\n",
    "import matplotlib.pyplot as plt\n",
    "import seaborn as sns\n",
    "import ipywidgets as widgets\n",
    "import spacy\n",
    "import re\n",
    "import nltk\n",
    "from spacy.tokenizer import Tokenizer\n",
    "import pickle\n",
    "from sklearn.feature_extraction.text import TfidfTransformer, CountVectorizer, TfidfVectorizer\n",
    "from sklearn.feature_selection import SelectKBest, chi2\n",
    "from sklearn.model_selection import GridSearchCV\n",
    "from sklearn.pipeline import Pipeline\n",
    "from sklearn.naive_bayes import MultinomialNB\n",
    "from sklearn.tree import DecisionTreeClassifier\n",
    "from sklearn.svm import LinearSVC\n",
    "from sklearn.ensemble import RandomForestClassifier\n",
    "from sklearn.metrics import confusion_matrix, classification_report\n",
    "from sklearn.metrics import plot_confusion_matrix\n",
    "from sklearn.metrics import f1_score\n",
    "from sklearn.model_selection import train_test_split, cross_val_score \n",
    "from sklearn.metrics import accuracy_score, f1_score, classification_report\n",
    "from sklearn.metrics import roc_curve, auc, roc_auc_score"
   ]
  },
  {
   "cell_type": "code",
   "execution_count": 2,
   "id": "dc7b9f16",
   "metadata": {},
   "outputs": [],
   "source": [
    "from nltk import word_tokenize\n",
    "from sklearn import utils"
   ]
  },
  {
   "cell_type": "code",
   "execution_count": 3,
   "id": "6163a235",
   "metadata": {},
   "outputs": [],
   "source": [
    "import csv\n",
    "import re\n",
    "from gensim.models.doc2vec import TaggedDocument\n",
    "from gensim.models import Doc2Vec"
   ]
  },
  {
   "cell_type": "code",
   "execution_count": 4,
   "id": "a81e0282",
   "metadata": {},
   "outputs": [],
   "source": [
    "dt = pd.read_csv('train.csv')"
   ]
  },
  {
   "cell_type": "code",
   "execution_count": 5,
   "id": "00c8e606",
   "metadata": {},
   "outputs": [
    {
     "data": {
      "text/html": [
       "<div>\n",
       "<style scoped>\n",
       "    .dataframe tbody tr th:only-of-type {\n",
       "        vertical-align: middle;\n",
       "    }\n",
       "\n",
       "    .dataframe tbody tr th {\n",
       "        vertical-align: top;\n",
       "    }\n",
       "\n",
       "    .dataframe thead th {\n",
       "        text-align: right;\n",
       "    }\n",
       "</style>\n",
       "<table border=\"1\" class=\"dataframe\">\n",
       "  <thead>\n",
       "    <tr style=\"text-align: right;\">\n",
       "      <th></th>\n",
       "      <th>id</th>\n",
       "      <th>premise</th>\n",
       "      <th>hypothesis</th>\n",
       "      <th>lang_abv</th>\n",
       "      <th>language</th>\n",
       "      <th>label</th>\n",
       "    </tr>\n",
       "  </thead>\n",
       "  <tbody>\n",
       "    <tr>\n",
       "      <th>0</th>\n",
       "      <td>5130fd2cb5</td>\n",
       "      <td>and these comments were considered in formulat...</td>\n",
       "      <td>The rules developed in the interim were put to...</td>\n",
       "      <td>en</td>\n",
       "      <td>English</td>\n",
       "      <td>0</td>\n",
       "    </tr>\n",
       "    <tr>\n",
       "      <th>1</th>\n",
       "      <td>5b72532a0b</td>\n",
       "      <td>These are issues that we wrestle with in pract...</td>\n",
       "      <td>Practice groups are not permitted to work on t...</td>\n",
       "      <td>en</td>\n",
       "      <td>English</td>\n",
       "      <td>2</td>\n",
       "    </tr>\n",
       "    <tr>\n",
       "      <th>2</th>\n",
       "      <td>3931fbe82a</td>\n",
       "      <td>Des petites choses comme celles-là font une di...</td>\n",
       "      <td>J'essayais d'accomplir quelque chose.</td>\n",
       "      <td>fr</td>\n",
       "      <td>French</td>\n",
       "      <td>0</td>\n",
       "    </tr>\n",
       "    <tr>\n",
       "      <th>3</th>\n",
       "      <td>5622f0c60b</td>\n",
       "      <td>you know they can't really defend themselves l...</td>\n",
       "      <td>They can't defend themselves because of their ...</td>\n",
       "      <td>en</td>\n",
       "      <td>English</td>\n",
       "      <td>0</td>\n",
       "    </tr>\n",
       "    <tr>\n",
       "      <th>4</th>\n",
       "      <td>86aaa48b45</td>\n",
       "      <td>ในการเล่นบทบาทสมมุติก็เช่นกัน โอกาสที่จะได้แสด...</td>\n",
       "      <td>เด็กสามารถเห็นได้ว่าชาติพันธุ์แตกต่างกันอย่างไร</td>\n",
       "      <td>th</td>\n",
       "      <td>Thai</td>\n",
       "      <td>1</td>\n",
       "    </tr>\n",
       "    <tr>\n",
       "      <th>...</th>\n",
       "      <td>...</td>\n",
       "      <td>...</td>\n",
       "      <td>...</td>\n",
       "      <td>...</td>\n",
       "      <td>...</td>\n",
       "      <td>...</td>\n",
       "    </tr>\n",
       "    <tr>\n",
       "      <th>12115</th>\n",
       "      <td>2b78e2a914</td>\n",
       "      <td>The results of even the most well designed epi...</td>\n",
       "      <td>All studies have the same amount of uncertaint...</td>\n",
       "      <td>en</td>\n",
       "      <td>English</td>\n",
       "      <td>2</td>\n",
       "    </tr>\n",
       "    <tr>\n",
       "      <th>12116</th>\n",
       "      <td>7e9943d152</td>\n",
       "      <td>But there are two kinds of  the pleasure of do...</td>\n",
       "      <td>But there are two kinds of the pleasure of doi...</td>\n",
       "      <td>en</td>\n",
       "      <td>English</td>\n",
       "      <td>0</td>\n",
       "    </tr>\n",
       "    <tr>\n",
       "      <th>12117</th>\n",
       "      <td>5085923e6c</td>\n",
       "      <td>The important thing is to realize that it's wa...</td>\n",
       "      <td>It cannot be moved, now or ever.</td>\n",
       "      <td>en</td>\n",
       "      <td>English</td>\n",
       "      <td>2</td>\n",
       "    </tr>\n",
       "    <tr>\n",
       "      <th>12118</th>\n",
       "      <td>fc8e2fd1fe</td>\n",
       "      <td>At the west end is a detailed model of the who...</td>\n",
       "      <td>The model temple complex is at the east end.</td>\n",
       "      <td>en</td>\n",
       "      <td>English</td>\n",
       "      <td>2</td>\n",
       "    </tr>\n",
       "    <tr>\n",
       "      <th>12119</th>\n",
       "      <td>44301dfb14</td>\n",
       "      <td>For himself he chose Atat??rk, or Father of th...</td>\n",
       "      <td>Ataturk was the father of the Turkish nation.</td>\n",
       "      <td>en</td>\n",
       "      <td>English</td>\n",
       "      <td>0</td>\n",
       "    </tr>\n",
       "  </tbody>\n",
       "</table>\n",
       "<p>12120 rows × 6 columns</p>\n",
       "</div>"
      ],
      "text/plain": [
       "               id                                            premise  \\\n",
       "0      5130fd2cb5  and these comments were considered in formulat...   \n",
       "1      5b72532a0b  These are issues that we wrestle with in pract...   \n",
       "2      3931fbe82a  Des petites choses comme celles-là font une di...   \n",
       "3      5622f0c60b  you know they can't really defend themselves l...   \n",
       "4      86aaa48b45  ในการเล่นบทบาทสมมุติก็เช่นกัน โอกาสที่จะได้แสด...   \n",
       "...           ...                                                ...   \n",
       "12115  2b78e2a914  The results of even the most well designed epi...   \n",
       "12116  7e9943d152  But there are two kinds of  the pleasure of do...   \n",
       "12117  5085923e6c  The important thing is to realize that it's wa...   \n",
       "12118  fc8e2fd1fe  At the west end is a detailed model of the who...   \n",
       "12119  44301dfb14  For himself he chose Atat??rk, or Father of th...   \n",
       "\n",
       "                                              hypothesis lang_abv language  \\\n",
       "0      The rules developed in the interim were put to...       en  English   \n",
       "1      Practice groups are not permitted to work on t...       en  English   \n",
       "2                  J'essayais d'accomplir quelque chose.       fr   French   \n",
       "3      They can't defend themselves because of their ...       en  English   \n",
       "4        เด็กสามารถเห็นได้ว่าชาติพันธุ์แตกต่างกันอย่างไร       th     Thai   \n",
       "...                                                  ...      ...      ...   \n",
       "12115  All studies have the same amount of uncertaint...       en  English   \n",
       "12116  But there are two kinds of the pleasure of doi...       en  English   \n",
       "12117                   It cannot be moved, now or ever.       en  English   \n",
       "12118       The model temple complex is at the east end.       en  English   \n",
       "12119      Ataturk was the father of the Turkish nation.       en  English   \n",
       "\n",
       "       label  \n",
       "0          0  \n",
       "1          2  \n",
       "2          0  \n",
       "3          0  \n",
       "4          1  \n",
       "...      ...  \n",
       "12115      2  \n",
       "12116      0  \n",
       "12117      2  \n",
       "12118      2  \n",
       "12119      0  \n",
       "\n",
       "[12120 rows x 6 columns]"
      ]
     },
     "execution_count": 5,
     "metadata": {},
     "output_type": "execute_result"
    }
   ],
   "source": [
    "dt.dropna()"
   ]
  },
  {
   "cell_type": "markdown",
   "id": "847e8950",
   "metadata": {},
   "source": [
    "# English"
   ]
  },
  {
   "cell_type": "code",
   "execution_count": 6,
   "id": "380e943e",
   "metadata": {},
   "outputs": [
    {
     "data": {
      "text/html": [
       "<div>\n",
       "<style scoped>\n",
       "    .dataframe tbody tr th:only-of-type {\n",
       "        vertical-align: middle;\n",
       "    }\n",
       "\n",
       "    .dataframe tbody tr th {\n",
       "        vertical-align: top;\n",
       "    }\n",
       "\n",
       "    .dataframe thead th {\n",
       "        text-align: right;\n",
       "    }\n",
       "</style>\n",
       "<table border=\"1\" class=\"dataframe\">\n",
       "  <thead>\n",
       "    <tr style=\"text-align: right;\">\n",
       "      <th></th>\n",
       "      <th>id</th>\n",
       "      <th>premise</th>\n",
       "      <th>hypothesis</th>\n",
       "      <th>lang_abv</th>\n",
       "      <th>language</th>\n",
       "      <th>label</th>\n",
       "    </tr>\n",
       "  </thead>\n",
       "  <tbody>\n",
       "    <tr>\n",
       "      <th>0</th>\n",
       "      <td>5130fd2cb5</td>\n",
       "      <td>and these comments were considered in formulat...</td>\n",
       "      <td>The rules developed in the interim were put to...</td>\n",
       "      <td>en</td>\n",
       "      <td>English</td>\n",
       "      <td>0</td>\n",
       "    </tr>\n",
       "    <tr>\n",
       "      <th>1</th>\n",
       "      <td>5b72532a0b</td>\n",
       "      <td>These are issues that we wrestle with in pract...</td>\n",
       "      <td>Practice groups are not permitted to work on t...</td>\n",
       "      <td>en</td>\n",
       "      <td>English</td>\n",
       "      <td>2</td>\n",
       "    </tr>\n",
       "    <tr>\n",
       "      <th>3</th>\n",
       "      <td>5622f0c60b</td>\n",
       "      <td>you know they can't really defend themselves l...</td>\n",
       "      <td>They can't defend themselves because of their ...</td>\n",
       "      <td>en</td>\n",
       "      <td>English</td>\n",
       "      <td>0</td>\n",
       "    </tr>\n",
       "    <tr>\n",
       "      <th>7</th>\n",
       "      <td>fdcd1bd867</td>\n",
       "      <td>From Cockpit Country to St. Ann's Bay</td>\n",
       "      <td>From St. Ann's Bay to Cockpit Country.</td>\n",
       "      <td>en</td>\n",
       "      <td>English</td>\n",
       "      <td>2</td>\n",
       "    </tr>\n",
       "    <tr>\n",
       "      <th>8</th>\n",
       "      <td>7cfb3d272c</td>\n",
       "      <td>Look, it's your skin, but you're going to be i...</td>\n",
       "      <td>The boss will fire you if he sees you slacking...</td>\n",
       "      <td>en</td>\n",
       "      <td>English</td>\n",
       "      <td>1</td>\n",
       "    </tr>\n",
       "    <tr>\n",
       "      <th>...</th>\n",
       "      <td>...</td>\n",
       "      <td>...</td>\n",
       "      <td>...</td>\n",
       "      <td>...</td>\n",
       "      <td>...</td>\n",
       "      <td>...</td>\n",
       "    </tr>\n",
       "    <tr>\n",
       "      <th>12115</th>\n",
       "      <td>2b78e2a914</td>\n",
       "      <td>The results of even the most well designed epi...</td>\n",
       "      <td>All studies have the same amount of uncertaint...</td>\n",
       "      <td>en</td>\n",
       "      <td>English</td>\n",
       "      <td>2</td>\n",
       "    </tr>\n",
       "    <tr>\n",
       "      <th>12116</th>\n",
       "      <td>7e9943d152</td>\n",
       "      <td>But there are two kinds of  the pleasure of do...</td>\n",
       "      <td>But there are two kinds of the pleasure of doi...</td>\n",
       "      <td>en</td>\n",
       "      <td>English</td>\n",
       "      <td>0</td>\n",
       "    </tr>\n",
       "    <tr>\n",
       "      <th>12117</th>\n",
       "      <td>5085923e6c</td>\n",
       "      <td>The important thing is to realize that it's wa...</td>\n",
       "      <td>It cannot be moved, now or ever.</td>\n",
       "      <td>en</td>\n",
       "      <td>English</td>\n",
       "      <td>2</td>\n",
       "    </tr>\n",
       "    <tr>\n",
       "      <th>12118</th>\n",
       "      <td>fc8e2fd1fe</td>\n",
       "      <td>At the west end is a detailed model of the who...</td>\n",
       "      <td>The model temple complex is at the east end.</td>\n",
       "      <td>en</td>\n",
       "      <td>English</td>\n",
       "      <td>2</td>\n",
       "    </tr>\n",
       "    <tr>\n",
       "      <th>12119</th>\n",
       "      <td>44301dfb14</td>\n",
       "      <td>For himself he chose Atat??rk, or Father of th...</td>\n",
       "      <td>Ataturk was the father of the Turkish nation.</td>\n",
       "      <td>en</td>\n",
       "      <td>English</td>\n",
       "      <td>0</td>\n",
       "    </tr>\n",
       "  </tbody>\n",
       "</table>\n",
       "<p>6870 rows × 6 columns</p>\n",
       "</div>"
      ],
      "text/plain": [
       "               id                                            premise  \\\n",
       "0      5130fd2cb5  and these comments were considered in formulat...   \n",
       "1      5b72532a0b  These are issues that we wrestle with in pract...   \n",
       "3      5622f0c60b  you know they can't really defend themselves l...   \n",
       "7      fdcd1bd867              From Cockpit Country to St. Ann's Bay   \n",
       "8      7cfb3d272c  Look, it's your skin, but you're going to be i...   \n",
       "...           ...                                                ...   \n",
       "12115  2b78e2a914  The results of even the most well designed epi...   \n",
       "12116  7e9943d152  But there are two kinds of  the pleasure of do...   \n",
       "12117  5085923e6c  The important thing is to realize that it's wa...   \n",
       "12118  fc8e2fd1fe  At the west end is a detailed model of the who...   \n",
       "12119  44301dfb14  For himself he chose Atat??rk, or Father of th...   \n",
       "\n",
       "                                              hypothesis lang_abv language  \\\n",
       "0      The rules developed in the interim were put to...       en  English   \n",
       "1      Practice groups are not permitted to work on t...       en  English   \n",
       "3      They can't defend themselves because of their ...       en  English   \n",
       "7                 From St. Ann's Bay to Cockpit Country.       en  English   \n",
       "8      The boss will fire you if he sees you slacking...       en  English   \n",
       "...                                                  ...      ...      ...   \n",
       "12115  All studies have the same amount of uncertaint...       en  English   \n",
       "12116  But there are two kinds of the pleasure of doi...       en  English   \n",
       "12117                   It cannot be moved, now or ever.       en  English   \n",
       "12118       The model temple complex is at the east end.       en  English   \n",
       "12119      Ataturk was the father of the Turkish nation.       en  English   \n",
       "\n",
       "       label  \n",
       "0          0  \n",
       "1          2  \n",
       "3          0  \n",
       "7          2  \n",
       "8          1  \n",
       "...      ...  \n",
       "12115      2  \n",
       "12116      0  \n",
       "12117      2  \n",
       "12118      2  \n",
       "12119      0  \n",
       "\n",
       "[6870 rows x 6 columns]"
      ]
     },
     "execution_count": 6,
     "metadata": {},
     "output_type": "execute_result"
    }
   ],
   "source": [
    "# english data set\n",
    "df_en = dt.loc[dt['lang_abv'] == 'en']\n",
    "df_en"
   ]
  },
  {
   "cell_type": "code",
   "execution_count": 7,
   "id": "b7c31dc3",
   "metadata": {},
   "outputs": [],
   "source": [
    "x_p = pd.DataFrame()\n",
    "x_p['p']=df_en['premise']\n",
    "x_p['label']= df_en['label']\n",
    "x_h = pd.DataFrame()\n",
    "x_h['p']=df_en['hypothesis']\n",
    "x_h['label']= df_en['label']\n",
    "# split train and test\n",
    "X_train_p, X_test_p, X_train_h, X_test_h= train_test_split(x_p,x_h, test_size=0.3, random_state=100)"
   ]
  },
  {
   "cell_type": "code",
   "execution_count": 8,
   "id": "6f1360f4",
   "metadata": {},
   "outputs": [],
   "source": [
    "#create a csv file\n",
    "X_train_p.to_csv('X_train_p.csv', encoding='utf-8', index = False)\n",
    "X_test_p.to_csv('X_test_p.csv', encoding='utf-8', index = False)\n",
    "X_train_h.to_csv('X_train_h.csv', encoding='utf-8', index = False)\n",
    "X_test_h.to_csv('X_test_h.csv', encoding='utf-8', index = False)"
   ]
  },
  {
   "cell_type": "code",
   "execution_count": 9,
   "id": "a1b786f5",
   "metadata": {},
   "outputs": [],
   "source": [
    "#load the csv file to create the input data for Doc2vec\n",
    "data_train_p = list()\n",
    "with open('X_train_p.csv', encoding='utf-8', newline='') as infile:\n",
    "    reader = csv.reader(infile)\n",
    "    for row in reader:\n",
    "        data_train_p.append(TaggedDocument(word_tokenize(row[0].lower()),[row[1]]))\n",
    "        \n",
    "#load the csv file to create the input data for Doc2vec\n",
    "data_train_h = list()\n",
    "with open('X_train_h.csv', encoding='utf-8', newline='') as infile:\n",
    "    reader = csv.reader(infile)\n",
    "    for row in reader:\n",
    "        data_train_h.append(TaggedDocument(word_tokenize(row[0].lower()),[row[1]]))"
   ]
  },
  {
   "cell_type": "code",
   "execution_count": 10,
   "id": "4af0bbef",
   "metadata": {},
   "outputs": [
    {
     "data": {
      "text/plain": [
       "TaggedDocument(words=['p'], tags=['label'])"
      ]
     },
     "execution_count": 10,
     "metadata": {},
     "output_type": "execute_result"
    }
   ],
   "source": [
    "data_train_p.pop(0)\n",
    "data_train_h.pop(0)"
   ]
  },
  {
   "cell_type": "code",
   "execution_count": 11,
   "id": "07553c27",
   "metadata": {},
   "outputs": [],
   "source": [
    "#load the csv file to create the input data for Doc2vec\n",
    "data_test_p = list()\n",
    "with open('X_train_p.csv', encoding='utf-8', newline='') as infile:\n",
    "    reader = csv.reader(infile)\n",
    "    for row in reader:\n",
    "        data_test_p.append(TaggedDocument(word_tokenize(row[0].lower()),[row[1]]))\n",
    "        \n",
    "#load the csv file to create the input data for Doc2vec\n",
    "data_test_h = list()\n",
    "with open('X_train_p.csv', encoding='utf-8', newline='') as infile:\n",
    "    reader = csv.reader(infile)\n",
    "    for row in reader:\n",
    "        data_test_h.append(TaggedDocument(word_tokenize(row[0].lower()),[row[1]]))"
   ]
  },
  {
   "cell_type": "code",
   "execution_count": 12,
   "id": "eba4ed8f",
   "metadata": {},
   "outputs": [
    {
     "data": {
      "text/plain": [
       "TaggedDocument(words=['p'], tags=['label'])"
      ]
     },
     "execution_count": 12,
     "metadata": {},
     "output_type": "execute_result"
    }
   ],
   "source": [
    "data_test_p.pop(0)\n",
    "data_test_h.pop(0)"
   ]
  },
  {
   "cell_type": "code",
   "execution_count": 13,
   "id": "9e10a972",
   "metadata": {},
   "outputs": [],
   "source": [
    "import logging\n",
    "logging.basicConfig(format='%(asctime)s : %(levelname)s : %(message)s', level=logging.INFO)"
   ]
  },
  {
   "cell_type": "code",
   "execution_count": 14,
   "id": "aa85ee71",
   "metadata": {},
   "outputs": [],
   "source": [
    "import multiprocessing\n",
    "import tqdm\n",
    "cores = multiprocessing.cpu_count()"
   ]
  },
  {
   "cell_type": "code",
   "execution_count": 15,
   "id": "2d8ab2e5",
   "metadata": {
    "scrolled": true
   },
   "outputs": [
    {
     "name": "stderr",
     "output_type": "stream",
     "text": [
      "2022-09-29 16:32:13,896 : INFO : Doc2Vec lifecycle event {'params': 'Doc2Vec(dbow,d300,n5,mc2,t8)', 'datetime': '2022-09-29T16:32:13.896520', 'gensim': '4.0.1', 'python': '3.8.8 (default, Apr 13 2021, 15:08:03) [MSC v.1916 64 bit (AMD64)]', 'platform': 'Windows-10-10.0.22000-SP0', 'event': 'created'}\n",
      "2022-09-29 16:32:13,899 : INFO : collecting all words and their counts\n",
      "2022-09-29 16:32:13,899 : INFO : PROGRESS: at example #0, processed 0 words (0/s), 0 word types, 0 tags\n",
      "2022-09-29 16:32:13,930 : INFO : collected 10080 word types and 3 unique tags from a corpus of 4809 examples and 104039 words\n",
      "2022-09-29 16:32:13,932 : INFO : Creating a fresh vocabulary\n",
      "2022-09-29 16:32:13,968 : INFO : Doc2Vec lifecycle event {'msg': 'effective_min_count=2 retains 7418 unique words (73.59126984126983%% of original 10080, drops 2662)', 'datetime': '2022-09-29T16:32:13.968226', 'gensim': '4.0.1', 'python': '3.8.8 (default, Apr 13 2021, 15:08:03) [MSC v.1916 64 bit (AMD64)]', 'platform': 'Windows-10-10.0.22000-SP0', 'event': 'prepare_vocab'}\n",
      "2022-09-29 16:32:13,968 : INFO : Doc2Vec lifecycle event {'msg': 'effective_min_count=2 leaves 101377 word corpus (97.44134411134286%% of original 104039, drops 2662)', 'datetime': '2022-09-29T16:32:13.968687', 'gensim': '4.0.1', 'python': '3.8.8 (default, Apr 13 2021, 15:08:03) [MSC v.1916 64 bit (AMD64)]', 'platform': 'Windows-10-10.0.22000-SP0', 'event': 'prepare_vocab'}\n",
      "2022-09-29 16:32:14,019 : INFO : deleting the raw counts dictionary of 10080 items\n",
      "2022-09-29 16:32:14,020 : INFO : sample=0 downsamples 0 most-common words\n",
      "2022-09-29 16:32:14,020 : INFO : Doc2Vec lifecycle event {'msg': 'downsampling leaves estimated 101377 word corpus (100.0%% of prior 101377)', 'datetime': '2022-09-29T16:32:14.020060', 'gensim': '4.0.1', 'python': '3.8.8 (default, Apr 13 2021, 15:08:03) [MSC v.1916 64 bit (AMD64)]', 'platform': 'Windows-10-10.0.22000-SP0', 'event': 'prepare_vocab'}\n",
      "2022-09-29 16:32:14,097 : INFO : estimated required memory for 7418 words and 300 dimensions: 21516400 bytes\n",
      "2022-09-29 16:32:14,098 : INFO : resetting layer weights\n"
     ]
    }
   ],
   "source": [
    "model_dbow = Doc2Vec(dm=0, vector_size=300, negative=5, hs=0, min_count=2, sample = 0, workers=cores)\n",
    "model_dbow.build_vocab(data_train_p)"
   ]
  },
  {
   "cell_type": "code",
   "execution_count": 17,
   "id": "0bf153f2",
   "metadata": {},
   "outputs": [
    {
     "name": "stderr",
     "output_type": "stream",
     "text": [
      "2022-09-29 16:32:46,934 : INFO : Doc2Vec lifecycle event {'msg': 'training model with 8 workers on 7418 vocabulary and 300 features, using sg=1 hs=0 sample=0 negative=5 window=5', 'datetime': '2022-09-29T16:32:46.934684', 'gensim': '4.0.1', 'python': '3.8.8 (default, Apr 13 2021, 15:08:03) [MSC v.1916 64 bit (AMD64)]', 'platform': 'Windows-10-10.0.22000-SP0', 'event': 'train'}\n",
      "2022-09-29 16:32:47,121 : INFO : worker thread finished; awaiting finish of 7 more threads\n",
      "2022-09-29 16:32:47,129 : INFO : worker thread finished; awaiting finish of 6 more threads\n",
      "2022-09-29 16:32:47,135 : INFO : worker thread finished; awaiting finish of 5 more threads\n",
      "2022-09-29 16:32:47,144 : INFO : worker thread finished; awaiting finish of 4 more threads\n",
      "2022-09-29 16:32:47,146 : INFO : worker thread finished; awaiting finish of 3 more threads\n",
      "2022-09-29 16:32:47,161 : INFO : worker thread finished; awaiting finish of 2 more threads\n",
      "2022-09-29 16:32:47,192 : INFO : worker thread finished; awaiting finish of 1 more threads\n",
      "2022-09-29 16:32:47,196 : INFO : worker thread finished; awaiting finish of 0 more threads\n",
      "2022-09-29 16:32:47,197 : INFO : EPOCH - 1 : training on 104039 raw words (106186 effective words) took 0.2s, 431860 effective words/s\n",
      "2022-09-29 16:32:47,199 : INFO : Doc2Vec lifecycle event {'msg': 'training on 104039 raw words (106186 effective words) took 0.3s, 404833 effective words/s', 'datetime': '2022-09-29T16:32:47.198340', 'gensim': '4.0.1', 'python': '3.8.8 (default, Apr 13 2021, 15:08:03) [MSC v.1916 64 bit (AMD64)]', 'platform': 'Windows-10-10.0.22000-SP0', 'event': 'train'}\n",
      "2022-09-29 16:32:47,201 : WARNING : Effective 'alpha' higher than previous training cycles\n",
      "2022-09-29 16:32:47,202 : INFO : Doc2Vec lifecycle event {'msg': 'training model with 8 workers on 7418 vocabulary and 300 features, using sg=1 hs=0 sample=0 negative=5 window=5', 'datetime': '2022-09-29T16:32:47.202326', 'gensim': '4.0.1', 'python': '3.8.8 (default, Apr 13 2021, 15:08:03) [MSC v.1916 64 bit (AMD64)]', 'platform': 'Windows-10-10.0.22000-SP0', 'event': 'train'}\n",
      "2022-09-29 16:32:47,395 : INFO : worker thread finished; awaiting finish of 7 more threads\n",
      "2022-09-29 16:32:47,403 : INFO : worker thread finished; awaiting finish of 6 more threads\n",
      "2022-09-29 16:32:47,403 : INFO : worker thread finished; awaiting finish of 5 more threads\n",
      "2022-09-29 16:32:47,406 : INFO : worker thread finished; awaiting finish of 4 more threads\n",
      "2022-09-29 16:32:47,407 : INFO : worker thread finished; awaiting finish of 3 more threads\n",
      "2022-09-29 16:32:47,428 : INFO : worker thread finished; awaiting finish of 2 more threads\n",
      "2022-09-29 16:32:47,461 : INFO : worker thread finished; awaiting finish of 1 more threads\n",
      "2022-09-29 16:32:47,462 : INFO : worker thread finished; awaiting finish of 0 more threads\n",
      "2022-09-29 16:32:47,462 : INFO : EPOCH - 1 : training on 104039 raw words (106186 effective words) took 0.2s, 428028 effective words/s\n",
      "2022-09-29 16:32:47,464 : INFO : Doc2Vec lifecycle event {'msg': 'training on 104039 raw words (106186 effective words) took 0.3s, 406232 effective words/s', 'datetime': '2022-09-29T16:32:47.464501', 'gensim': '4.0.1', 'python': '3.8.8 (default, Apr 13 2021, 15:08:03) [MSC v.1916 64 bit (AMD64)]', 'platform': 'Windows-10-10.0.22000-SP0', 'event': 'train'}\n",
      "2022-09-29 16:32:47,466 : INFO : Doc2Vec lifecycle event {'msg': 'training model with 8 workers on 7418 vocabulary and 300 features, using sg=1 hs=0 sample=0 negative=5 window=5', 'datetime': '2022-09-29T16:32:47.466496', 'gensim': '4.0.1', 'python': '3.8.8 (default, Apr 13 2021, 15:08:03) [MSC v.1916 64 bit (AMD64)]', 'platform': 'Windows-10-10.0.22000-SP0', 'event': 'train'}\n",
      "2022-09-29 16:32:47,653 : INFO : worker thread finished; awaiting finish of 7 more threads\n",
      "2022-09-29 16:32:47,660 : INFO : worker thread finished; awaiting finish of 6 more threads\n",
      "2022-09-29 16:32:47,663 : INFO : worker thread finished; awaiting finish of 5 more threads\n",
      "2022-09-29 16:32:47,666 : INFO : worker thread finished; awaiting finish of 4 more threads\n",
      "2022-09-29 16:32:47,671 : INFO : worker thread finished; awaiting finish of 3 more threads\n",
      "2022-09-29 16:32:47,688 : INFO : worker thread finished; awaiting finish of 2 more threads\n",
      "2022-09-29 16:32:47,719 : INFO : worker thread finished; awaiting finish of 1 more threads\n",
      "2022-09-29 16:32:47,723 : INFO : worker thread finished; awaiting finish of 0 more threads\n",
      "2022-09-29 16:32:47,723 : INFO : EPOCH - 1 : training on 104039 raw words (106186 effective words) took 0.2s, 433121 effective words/s\n",
      "2022-09-29 16:32:47,724 : INFO : Doc2Vec lifecycle event {'msg': 'training on 104039 raw words (106186 effective words) took 0.3s, 412591 effective words/s', 'datetime': '2022-09-29T16:32:47.724899', 'gensim': '4.0.1', 'python': '3.8.8 (default, Apr 13 2021, 15:08:03) [MSC v.1916 64 bit (AMD64)]', 'platform': 'Windows-10-10.0.22000-SP0', 'event': 'train'}\n",
      "2022-09-29 16:32:47,726 : INFO : Doc2Vec lifecycle event {'msg': 'training model with 8 workers on 7418 vocabulary and 300 features, using sg=1 hs=0 sample=0 negative=5 window=5', 'datetime': '2022-09-29T16:32:47.726927', 'gensim': '4.0.1', 'python': '3.8.8 (default, Apr 13 2021, 15:08:03) [MSC v.1916 64 bit (AMD64)]', 'platform': 'Windows-10-10.0.22000-SP0', 'event': 'train'}\n",
      "2022-09-29 16:32:47,904 : INFO : worker thread finished; awaiting finish of 7 more threads\n",
      "2022-09-29 16:32:47,909 : INFO : worker thread finished; awaiting finish of 6 more threads\n",
      "2022-09-29 16:32:47,914 : INFO : worker thread finished; awaiting finish of 5 more threads\n",
      "2022-09-29 16:32:47,917 : INFO : worker thread finished; awaiting finish of 4 more threads\n",
      "2022-09-29 16:32:47,918 : INFO : worker thread finished; awaiting finish of 3 more threads\n",
      "2022-09-29 16:32:47,940 : INFO : worker thread finished; awaiting finish of 2 more threads\n",
      "2022-09-29 16:32:47,968 : INFO : worker thread finished; awaiting finish of 1 more threads\n",
      "2022-09-29 16:32:47,971 : INFO : worker thread finished; awaiting finish of 0 more threads\n",
      "2022-09-29 16:32:47,972 : INFO : EPOCH - 1 : training on 104039 raw words (106186 effective words) took 0.2s, 455718 effective words/s\n",
      "2022-09-29 16:32:47,974 : INFO : Doc2Vec lifecycle event {'msg': 'training on 104039 raw words (106186 effective words) took 0.2s, 431166 effective words/s', 'datetime': '2022-09-29T16:32:47.974617', 'gensim': '4.0.1', 'python': '3.8.8 (default, Apr 13 2021, 15:08:03) [MSC v.1916 64 bit (AMD64)]', 'platform': 'Windows-10-10.0.22000-SP0', 'event': 'train'}\n",
      "2022-09-29 16:32:47,978 : INFO : Doc2Vec lifecycle event {'msg': 'training model with 8 workers on 7418 vocabulary and 300 features, using sg=1 hs=0 sample=0 negative=5 window=5', 'datetime': '2022-09-29T16:32:47.977606', 'gensim': '4.0.1', 'python': '3.8.8 (default, Apr 13 2021, 15:08:03) [MSC v.1916 64 bit (AMD64)]', 'platform': 'Windows-10-10.0.22000-SP0', 'event': 'train'}\n",
      "2022-09-29 16:32:48,168 : INFO : worker thread finished; awaiting finish of 7 more threads\n",
      "2022-09-29 16:32:48,172 : INFO : worker thread finished; awaiting finish of 6 more threads\n",
      "2022-09-29 16:32:48,173 : INFO : worker thread finished; awaiting finish of 5 more threads\n",
      "2022-09-29 16:32:48,175 : INFO : worker thread finished; awaiting finish of 4 more threads\n",
      "2022-09-29 16:32:48,180 : INFO : worker thread finished; awaiting finish of 3 more threads\n",
      "2022-09-29 16:32:48,201 : INFO : worker thread finished; awaiting finish of 2 more threads\n",
      "2022-09-29 16:32:48,227 : INFO : worker thread finished; awaiting finish of 1 more threads\n",
      "2022-09-29 16:32:48,232 : INFO : worker thread finished; awaiting finish of 0 more threads\n",
      "2022-09-29 16:32:48,232 : INFO : EPOCH - 1 : training on 104039 raw words (106186 effective words) took 0.2s, 434334 effective words/s\n",
      "2022-09-29 16:32:48,233 : INFO : Doc2Vec lifecycle event {'msg': 'training on 104039 raw words (106186 effective words) took 0.3s, 416912 effective words/s', 'datetime': '2022-09-29T16:32:48.233098', 'gensim': '4.0.1', 'python': '3.8.8 (default, Apr 13 2021, 15:08:03) [MSC v.1916 64 bit (AMD64)]', 'platform': 'Windows-10-10.0.22000-SP0', 'event': 'train'}\n",
      "2022-09-29 16:32:48,238 : INFO : Doc2Vec lifecycle event {'msg': 'training model with 8 workers on 7418 vocabulary and 300 features, using sg=1 hs=0 sample=0 negative=5 window=5', 'datetime': '2022-09-29T16:32:48.238086', 'gensim': '4.0.1', 'python': '3.8.8 (default, Apr 13 2021, 15:08:03) [MSC v.1916 64 bit (AMD64)]', 'platform': 'Windows-10-10.0.22000-SP0', 'event': 'train'}\n"
     ]
    },
    {
     "name": "stderr",
     "output_type": "stream",
     "text": [
      "2022-09-29 16:32:48,428 : INFO : worker thread finished; awaiting finish of 7 more threads\n",
      "2022-09-29 16:32:48,430 : INFO : worker thread finished; awaiting finish of 6 more threads\n",
      "2022-09-29 16:32:48,433 : INFO : worker thread finished; awaiting finish of 5 more threads\n",
      "2022-09-29 16:32:48,442 : INFO : worker thread finished; awaiting finish of 4 more threads\n",
      "2022-09-29 16:32:48,446 : INFO : worker thread finished; awaiting finish of 3 more threads\n",
      "2022-09-29 16:32:48,466 : INFO : worker thread finished; awaiting finish of 2 more threads\n",
      "2022-09-29 16:32:48,497 : INFO : worker thread finished; awaiting finish of 1 more threads\n",
      "2022-09-29 16:32:48,497 : INFO : worker thread finished; awaiting finish of 0 more threads\n",
      "2022-09-29 16:32:48,498 : INFO : EPOCH - 1 : training on 104039 raw words (106186 effective words) took 0.3s, 423592 effective words/s\n",
      "2022-09-29 16:32:48,498 : INFO : Doc2Vec lifecycle event {'msg': 'training on 104039 raw words (106186 effective words) took 0.3s, 406868 effective words/s', 'datetime': '2022-09-29T16:32:48.498997', 'gensim': '4.0.1', 'python': '3.8.8 (default, Apr 13 2021, 15:08:03) [MSC v.1916 64 bit (AMD64)]', 'platform': 'Windows-10-10.0.22000-SP0', 'event': 'train'}\n",
      "2022-09-29 16:32:48,500 : INFO : Doc2Vec lifecycle event {'msg': 'training model with 8 workers on 7418 vocabulary and 300 features, using sg=1 hs=0 sample=0 negative=5 window=5', 'datetime': '2022-09-29T16:32:48.500991', 'gensim': '4.0.1', 'python': '3.8.8 (default, Apr 13 2021, 15:08:03) [MSC v.1916 64 bit (AMD64)]', 'platform': 'Windows-10-10.0.22000-SP0', 'event': 'train'}\n",
      "2022-09-29 16:32:48,676 : INFO : worker thread finished; awaiting finish of 7 more threads\n",
      "2022-09-29 16:32:48,678 : INFO : worker thread finished; awaiting finish of 6 more threads\n",
      "2022-09-29 16:32:48,681 : INFO : worker thread finished; awaiting finish of 5 more threads\n",
      "2022-09-29 16:32:48,683 : INFO : worker thread finished; awaiting finish of 4 more threads\n",
      "2022-09-29 16:32:48,685 : INFO : worker thread finished; awaiting finish of 3 more threads\n",
      "2022-09-29 16:32:48,707 : INFO : worker thread finished; awaiting finish of 2 more threads\n",
      "2022-09-29 16:32:48,737 : INFO : worker thread finished; awaiting finish of 1 more threads\n",
      "2022-09-29 16:32:48,738 : INFO : worker thread finished; awaiting finish of 0 more threads\n",
      "2022-09-29 16:32:48,739 : INFO : EPOCH - 1 : training on 104039 raw words (106186 effective words) took 0.2s, 469523 effective words/s\n",
      "2022-09-29 16:32:48,740 : INFO : Doc2Vec lifecycle event {'msg': 'training on 104039 raw words (106186 effective words) took 0.2s, 446118 effective words/s', 'datetime': '2022-09-29T16:32:48.740457', 'gensim': '4.0.1', 'python': '3.8.8 (default, Apr 13 2021, 15:08:03) [MSC v.1916 64 bit (AMD64)]', 'platform': 'Windows-10-10.0.22000-SP0', 'event': 'train'}\n",
      "2022-09-29 16:32:48,742 : INFO : Doc2Vec lifecycle event {'msg': 'training model with 8 workers on 7418 vocabulary and 300 features, using sg=1 hs=0 sample=0 negative=5 window=5', 'datetime': '2022-09-29T16:32:48.742450', 'gensim': '4.0.1', 'python': '3.8.8 (default, Apr 13 2021, 15:08:03) [MSC v.1916 64 bit (AMD64)]', 'platform': 'Windows-10-10.0.22000-SP0', 'event': 'train'}\n",
      "2022-09-29 16:32:48,914 : INFO : worker thread finished; awaiting finish of 7 more threads\n",
      "2022-09-29 16:32:48,916 : INFO : worker thread finished; awaiting finish of 6 more threads\n",
      "2022-09-29 16:32:48,917 : INFO : worker thread finished; awaiting finish of 5 more threads\n",
      "2022-09-29 16:32:48,919 : INFO : worker thread finished; awaiting finish of 4 more threads\n",
      "2022-09-29 16:32:48,921 : INFO : worker thread finished; awaiting finish of 3 more threads\n",
      "2022-09-29 16:32:48,943 : INFO : worker thread finished; awaiting finish of 2 more threads\n",
      "2022-09-29 16:32:48,972 : INFO : worker thread finished; awaiting finish of 1 more threads\n",
      "2022-09-29 16:32:48,972 : INFO : worker thread finished; awaiting finish of 0 more threads\n",
      "2022-09-29 16:32:48,973 : INFO : EPOCH - 1 : training on 104039 raw words (106186 effective words) took 0.2s, 484530 effective words/s\n",
      "2022-09-29 16:32:48,974 : INFO : Doc2Vec lifecycle event {'msg': 'training on 104039 raw words (106186 effective words) took 0.2s, 460059 effective words/s', 'datetime': '2022-09-29T16:32:48.973364', 'gensim': '4.0.1', 'python': '3.8.8 (default, Apr 13 2021, 15:08:03) [MSC v.1916 64 bit (AMD64)]', 'platform': 'Windows-10-10.0.22000-SP0', 'event': 'train'}\n",
      "2022-09-29 16:32:48,975 : INFO : Doc2Vec lifecycle event {'msg': 'training model with 8 workers on 7418 vocabulary and 300 features, using sg=1 hs=0 sample=0 negative=5 window=5', 'datetime': '2022-09-29T16:32:48.975359', 'gensim': '4.0.1', 'python': '3.8.8 (default, Apr 13 2021, 15:08:03) [MSC v.1916 64 bit (AMD64)]', 'platform': 'Windows-10-10.0.22000-SP0', 'event': 'train'}\n",
      "2022-09-29 16:32:49,150 : INFO : worker thread finished; awaiting finish of 7 more threads\n",
      "2022-09-29 16:32:49,156 : INFO : worker thread finished; awaiting finish of 6 more threads\n",
      "2022-09-29 16:32:49,162 : INFO : worker thread finished; awaiting finish of 5 more threads\n",
      "2022-09-29 16:32:49,165 : INFO : worker thread finished; awaiting finish of 4 more threads\n",
      "2022-09-29 16:32:49,166 : INFO : worker thread finished; awaiting finish of 3 more threads\n",
      "2022-09-29 16:32:49,184 : INFO : worker thread finished; awaiting finish of 2 more threads\n",
      "2022-09-29 16:32:49,207 : INFO : worker thread finished; awaiting finish of 1 more threads\n",
      "2022-09-29 16:32:49,211 : INFO : worker thread finished; awaiting finish of 0 more threads\n",
      "2022-09-29 16:32:49,212 : INFO : EPOCH - 1 : training on 104039 raw words (106186 effective words) took 0.2s, 469184 effective words/s\n",
      "2022-09-29 16:32:49,212 : INFO : Doc2Vec lifecycle event {'msg': 'training on 104039 raw words (106186 effective words) took 0.2s, 447856 effective words/s', 'datetime': '2022-09-29T16:32:49.212846', 'gensim': '4.0.1', 'python': '3.8.8 (default, Apr 13 2021, 15:08:03) [MSC v.1916 64 bit (AMD64)]', 'platform': 'Windows-10-10.0.22000-SP0', 'event': 'train'}\n",
      "2022-09-29 16:32:49,214 : INFO : Doc2Vec lifecycle event {'msg': 'training model with 8 workers on 7418 vocabulary and 300 features, using sg=1 hs=0 sample=0 negative=5 window=5', 'datetime': '2022-09-29T16:32:49.214839', 'gensim': '4.0.1', 'python': '3.8.8 (default, Apr 13 2021, 15:08:03) [MSC v.1916 64 bit (AMD64)]', 'platform': 'Windows-10-10.0.22000-SP0', 'event': 'train'}\n",
      "2022-09-29 16:32:49,389 : INFO : worker thread finished; awaiting finish of 7 more threads\n",
      "2022-09-29 16:32:49,392 : INFO : worker thread finished; awaiting finish of 6 more threads\n",
      "2022-09-29 16:32:49,399 : INFO : worker thread finished; awaiting finish of 5 more threads\n",
      "2022-09-29 16:32:49,400 : INFO : worker thread finished; awaiting finish of 4 more threads\n",
      "2022-09-29 16:32:49,401 : INFO : worker thread finished; awaiting finish of 3 more threads\n",
      "2022-09-29 16:32:49,420 : INFO : worker thread finished; awaiting finish of 2 more threads\n",
      "2022-09-29 16:32:49,446 : INFO : worker thread finished; awaiting finish of 1 more threads\n",
      "2022-09-29 16:32:49,449 : INFO : worker thread finished; awaiting finish of 0 more threads\n",
      "2022-09-29 16:32:49,449 : INFO : EPOCH - 1 : training on 104039 raw words (106186 effective words) took 0.2s, 473008 effective words/s\n",
      "2022-09-29 16:32:49,450 : INFO : Doc2Vec lifecycle event {'msg': 'training on 104039 raw words (106186 effective words) took 0.2s, 453678 effective words/s', 'datetime': '2022-09-29T16:32:49.450289', 'gensim': '4.0.1', 'python': '3.8.8 (default, Apr 13 2021, 15:08:03) [MSC v.1916 64 bit (AMD64)]', 'platform': 'Windows-10-10.0.22000-SP0', 'event': 'train'}\n",
      "2022-09-29 16:32:49,452 : INFO : Doc2Vec lifecycle event {'msg': 'training model with 8 workers on 7418 vocabulary and 300 features, using sg=1 hs=0 sample=0 negative=5 window=5', 'datetime': '2022-09-29T16:32:49.452283', 'gensim': '4.0.1', 'python': '3.8.8 (default, Apr 13 2021, 15:08:03) [MSC v.1916 64 bit (AMD64)]', 'platform': 'Windows-10-10.0.22000-SP0', 'event': 'train'}\n",
      "2022-09-29 16:32:49,635 : INFO : worker thread finished; awaiting finish of 7 more threads\n",
      "2022-09-29 16:32:49,637 : INFO : worker thread finished; awaiting finish of 6 more threads\n",
      "2022-09-29 16:32:49,639 : INFO : worker thread finished; awaiting finish of 5 more threads\n"
     ]
    },
    {
     "name": "stderr",
     "output_type": "stream",
     "text": [
      "2022-09-29 16:32:49,640 : INFO : worker thread finished; awaiting finish of 4 more threads\n",
      "2022-09-29 16:32:49,641 : INFO : worker thread finished; awaiting finish of 3 more threads\n",
      "2022-09-29 16:32:49,662 : INFO : worker thread finished; awaiting finish of 2 more threads\n",
      "2022-09-29 16:32:49,693 : INFO : worker thread finished; awaiting finish of 1 more threads\n",
      "2022-09-29 16:32:49,697 : INFO : worker thread finished; awaiting finish of 0 more threads\n",
      "2022-09-29 16:32:49,698 : INFO : EPOCH - 1 : training on 104039 raw words (106186 effective words) took 0.2s, 450120 effective words/s\n",
      "2022-09-29 16:32:49,699 : INFO : Doc2Vec lifecycle event {'msg': 'training on 104039 raw words (106186 effective words) took 0.2s, 430978 effective words/s', 'datetime': '2022-09-29T16:32:49.699140', 'gensim': '4.0.1', 'python': '3.8.8 (default, Apr 13 2021, 15:08:03) [MSC v.1916 64 bit (AMD64)]', 'platform': 'Windows-10-10.0.22000-SP0', 'event': 'train'}\n",
      "2022-09-29 16:32:49,700 : INFO : Doc2Vec lifecycle event {'msg': 'training model with 8 workers on 7418 vocabulary and 300 features, using sg=1 hs=0 sample=0 negative=5 window=5', 'datetime': '2022-09-29T16:32:49.700143', 'gensim': '4.0.1', 'python': '3.8.8 (default, Apr 13 2021, 15:08:03) [MSC v.1916 64 bit (AMD64)]', 'platform': 'Windows-10-10.0.22000-SP0', 'event': 'train'}\n",
      "2022-09-29 16:32:49,883 : INFO : worker thread finished; awaiting finish of 7 more threads\n",
      "2022-09-29 16:32:49,884 : INFO : worker thread finished; awaiting finish of 6 more threads\n",
      "2022-09-29 16:32:49,887 : INFO : worker thread finished; awaiting finish of 5 more threads\n",
      "2022-09-29 16:32:49,895 : INFO : worker thread finished; awaiting finish of 4 more threads\n",
      "2022-09-29 16:32:49,900 : INFO : worker thread finished; awaiting finish of 3 more threads\n",
      "2022-09-29 16:32:49,915 : INFO : worker thread finished; awaiting finish of 2 more threads\n",
      "2022-09-29 16:32:49,939 : INFO : worker thread finished; awaiting finish of 1 more threads\n",
      "2022-09-29 16:32:49,942 : INFO : worker thread finished; awaiting finish of 0 more threads\n",
      "2022-09-29 16:32:49,942 : INFO : EPOCH - 1 : training on 104039 raw words (106186 effective words) took 0.2s, 460165 effective words/s\n",
      "2022-09-29 16:32:49,943 : INFO : Doc2Vec lifecycle event {'msg': 'training on 104039 raw words (106186 effective words) took 0.2s, 438892 effective words/s', 'datetime': '2022-09-29T16:32:49.943503', 'gensim': '4.0.1', 'python': '3.8.8 (default, Apr 13 2021, 15:08:03) [MSC v.1916 64 bit (AMD64)]', 'platform': 'Windows-10-10.0.22000-SP0', 'event': 'train'}\n",
      "2022-09-29 16:32:49,945 : INFO : Doc2Vec lifecycle event {'msg': 'training model with 8 workers on 7418 vocabulary and 300 features, using sg=1 hs=0 sample=0 negative=5 window=5', 'datetime': '2022-09-29T16:32:49.945498', 'gensim': '4.0.1', 'python': '3.8.8 (default, Apr 13 2021, 15:08:03) [MSC v.1916 64 bit (AMD64)]', 'platform': 'Windows-10-10.0.22000-SP0', 'event': 'train'}\n",
      "2022-09-29 16:32:50,120 : INFO : worker thread finished; awaiting finish of 7 more threads\n",
      "2022-09-29 16:32:50,125 : INFO : worker thread finished; awaiting finish of 6 more threads\n",
      "2022-09-29 16:32:50,127 : INFO : worker thread finished; awaiting finish of 5 more threads\n",
      "2022-09-29 16:32:50,129 : INFO : worker thread finished; awaiting finish of 4 more threads\n",
      "2022-09-29 16:32:50,138 : INFO : worker thread finished; awaiting finish of 3 more threads\n",
      "2022-09-29 16:32:50,155 : INFO : worker thread finished; awaiting finish of 2 more threads\n",
      "2022-09-29 16:32:50,185 : INFO : worker thread finished; awaiting finish of 1 more threads\n",
      "2022-09-29 16:32:50,187 : INFO : worker thread finished; awaiting finish of 0 more threads\n",
      "2022-09-29 16:32:50,189 : INFO : EPOCH - 1 : training on 104039 raw words (106186 effective words) took 0.2s, 456280 effective words/s\n",
      "2022-09-29 16:32:50,189 : INFO : Doc2Vec lifecycle event {'msg': 'training on 104039 raw words (106186 effective words) took 0.2s, 436237 effective words/s', 'datetime': '2022-09-29T16:32:50.189846', 'gensim': '4.0.1', 'python': '3.8.8 (default, Apr 13 2021, 15:08:03) [MSC v.1916 64 bit (AMD64)]', 'platform': 'Windows-10-10.0.22000-SP0', 'event': 'train'}\n",
      "2022-09-29 16:32:50,192 : INFO : Doc2Vec lifecycle event {'msg': 'training model with 8 workers on 7418 vocabulary and 300 features, using sg=1 hs=0 sample=0 negative=5 window=5', 'datetime': '2022-09-29T16:32:50.192839', 'gensim': '4.0.1', 'python': '3.8.8 (default, Apr 13 2021, 15:08:03) [MSC v.1916 64 bit (AMD64)]', 'platform': 'Windows-10-10.0.22000-SP0', 'event': 'train'}\n",
      "2022-09-29 16:32:50,376 : INFO : worker thread finished; awaiting finish of 7 more threads\n",
      "2022-09-29 16:32:50,382 : INFO : worker thread finished; awaiting finish of 6 more threads\n",
      "2022-09-29 16:32:50,384 : INFO : worker thread finished; awaiting finish of 5 more threads\n",
      "2022-09-29 16:32:50,386 : INFO : worker thread finished; awaiting finish of 4 more threads\n",
      "2022-09-29 16:32:50,389 : INFO : worker thread finished; awaiting finish of 3 more threads\n",
      "2022-09-29 16:32:50,406 : INFO : worker thread finished; awaiting finish of 2 more threads\n",
      "2022-09-29 16:32:50,428 : INFO : worker thread finished; awaiting finish of 1 more threads\n",
      "2022-09-29 16:32:50,431 : INFO : worker thread finished; awaiting finish of 0 more threads\n",
      "2022-09-29 16:32:50,431 : INFO : EPOCH - 1 : training on 104039 raw words (106186 effective words) took 0.2s, 463429 effective words/s\n",
      "2022-09-29 16:32:50,432 : INFO : Doc2Vec lifecycle event {'msg': 'training on 104039 raw words (106186 effective words) took 0.2s, 445193 effective words/s', 'datetime': '2022-09-29T16:32:50.432347', 'gensim': '4.0.1', 'python': '3.8.8 (default, Apr 13 2021, 15:08:03) [MSC v.1916 64 bit (AMD64)]', 'platform': 'Windows-10-10.0.22000-SP0', 'event': 'train'}\n",
      "2022-09-29 16:32:50,434 : INFO : Doc2Vec lifecycle event {'msg': 'training model with 8 workers on 7418 vocabulary and 300 features, using sg=1 hs=0 sample=0 negative=5 window=5', 'datetime': '2022-09-29T16:32:50.434341', 'gensim': '4.0.1', 'python': '3.8.8 (default, Apr 13 2021, 15:08:03) [MSC v.1916 64 bit (AMD64)]', 'platform': 'Windows-10-10.0.22000-SP0', 'event': 'train'}\n",
      "2022-09-29 16:32:50,592 : INFO : worker thread finished; awaiting finish of 7 more threads\n",
      "2022-09-29 16:32:50,594 : INFO : worker thread finished; awaiting finish of 6 more threads\n",
      "2022-09-29 16:32:50,598 : INFO : worker thread finished; awaiting finish of 5 more threads\n",
      "2022-09-29 16:32:50,603 : INFO : worker thread finished; awaiting finish of 4 more threads\n",
      "2022-09-29 16:32:50,607 : INFO : worker thread finished; awaiting finish of 3 more threads\n",
      "2022-09-29 16:32:50,624 : INFO : worker thread finished; awaiting finish of 2 more threads\n",
      "2022-09-29 16:32:50,646 : INFO : worker thread finished; awaiting finish of 1 more threads\n",
      "2022-09-29 16:32:50,647 : INFO : worker thread finished; awaiting finish of 0 more threads\n",
      "2022-09-29 16:32:50,648 : INFO : EPOCH - 1 : training on 104039 raw words (106186 effective words) took 0.2s, 519065 effective words/s\n",
      "2022-09-29 16:32:50,648 : INFO : Doc2Vec lifecycle event {'msg': 'training on 104039 raw words (106186 effective words) took 0.2s, 496526 effective words/s', 'datetime': '2022-09-29T16:32:50.648121', 'gensim': '4.0.1', 'python': '3.8.8 (default, Apr 13 2021, 15:08:03) [MSC v.1916 64 bit (AMD64)]', 'platform': 'Windows-10-10.0.22000-SP0', 'event': 'train'}\n",
      "2022-09-29 16:32:50,650 : INFO : Doc2Vec lifecycle event {'msg': 'training model with 8 workers on 7418 vocabulary and 300 features, using sg=1 hs=0 sample=0 negative=5 window=5', 'datetime': '2022-09-29T16:32:50.650085', 'gensim': '4.0.1', 'python': '3.8.8 (default, Apr 13 2021, 15:08:03) [MSC v.1916 64 bit (AMD64)]', 'platform': 'Windows-10-10.0.22000-SP0', 'event': 'train'}\n",
      "2022-09-29 16:32:50,817 : INFO : worker thread finished; awaiting finish of 7 more threads\n",
      "2022-09-29 16:32:50,821 : INFO : worker thread finished; awaiting finish of 6 more threads\n",
      "2022-09-29 16:32:50,824 : INFO : worker thread finished; awaiting finish of 5 more threads\n",
      "2022-09-29 16:32:50,826 : INFO : worker thread finished; awaiting finish of 4 more threads\n",
      "2022-09-29 16:32:50,828 : INFO : worker thread finished; awaiting finish of 3 more threads\n",
      "2022-09-29 16:32:50,849 : INFO : worker thread finished; awaiting finish of 2 more threads\n"
     ]
    },
    {
     "name": "stderr",
     "output_type": "stream",
     "text": [
      "2022-09-29 16:32:50,869 : INFO : worker thread finished; awaiting finish of 1 more threads\n",
      "2022-09-29 16:32:50,872 : INFO : worker thread finished; awaiting finish of 0 more threads\n",
      "2022-09-29 16:32:50,873 : INFO : EPOCH - 1 : training on 104039 raw words (106186 effective words) took 0.2s, 501695 effective words/s\n",
      "2022-09-29 16:32:50,874 : INFO : Doc2Vec lifecycle event {'msg': 'training on 104039 raw words (106186 effective words) took 0.2s, 477052 effective words/s', 'datetime': '2022-09-29T16:32:50.874497', 'gensim': '4.0.1', 'python': '3.8.8 (default, Apr 13 2021, 15:08:03) [MSC v.1916 64 bit (AMD64)]', 'platform': 'Windows-10-10.0.22000-SP0', 'event': 'train'}\n",
      "2022-09-29 16:32:50,875 : INFO : Doc2Vec lifecycle event {'msg': 'training model with 8 workers on 7418 vocabulary and 300 features, using sg=1 hs=0 sample=0 negative=5 window=5', 'datetime': '2022-09-29T16:32:50.875494', 'gensim': '4.0.1', 'python': '3.8.8 (default, Apr 13 2021, 15:08:03) [MSC v.1916 64 bit (AMD64)]', 'platform': 'Windows-10-10.0.22000-SP0', 'event': 'train'}\n",
      "2022-09-29 16:32:51,052 : INFO : worker thread finished; awaiting finish of 7 more threads\n",
      "2022-09-29 16:32:51,057 : INFO : worker thread finished; awaiting finish of 6 more threads\n",
      "2022-09-29 16:32:51,061 : INFO : worker thread finished; awaiting finish of 5 more threads\n",
      "2022-09-29 16:32:51,066 : INFO : worker thread finished; awaiting finish of 4 more threads\n",
      "2022-09-29 16:32:51,069 : INFO : worker thread finished; awaiting finish of 3 more threads\n",
      "2022-09-29 16:32:51,086 : INFO : worker thread finished; awaiting finish of 2 more threads\n",
      "2022-09-29 16:32:51,109 : INFO : worker thread finished; awaiting finish of 1 more threads\n",
      "2022-09-29 16:32:51,113 : INFO : worker thread finished; awaiting finish of 0 more threads\n",
      "2022-09-29 16:32:51,114 : INFO : EPOCH - 1 : training on 104039 raw words (106186 effective words) took 0.2s, 463518 effective words/s\n",
      "2022-09-29 16:32:51,115 : INFO : Doc2Vec lifecycle event {'msg': 'training on 104039 raw words (106186 effective words) took 0.2s, 444424 effective words/s', 'datetime': '2022-09-29T16:32:51.115423', 'gensim': '4.0.1', 'python': '3.8.8 (default, Apr 13 2021, 15:08:03) [MSC v.1916 64 bit (AMD64)]', 'platform': 'Windows-10-10.0.22000-SP0', 'event': 'train'}\n",
      "2022-09-29 16:32:51,116 : INFO : Doc2Vec lifecycle event {'msg': 'training model with 8 workers on 7418 vocabulary and 300 features, using sg=1 hs=0 sample=0 negative=5 window=5', 'datetime': '2022-09-29T16:32:51.116421', 'gensim': '4.0.1', 'python': '3.8.8 (default, Apr 13 2021, 15:08:03) [MSC v.1916 64 bit (AMD64)]', 'platform': 'Windows-10-10.0.22000-SP0', 'event': 'train'}\n",
      "2022-09-29 16:32:51,297 : INFO : worker thread finished; awaiting finish of 7 more threads\n",
      "2022-09-29 16:32:51,298 : INFO : worker thread finished; awaiting finish of 6 more threads\n",
      "2022-09-29 16:32:51,302 : INFO : worker thread finished; awaiting finish of 5 more threads\n",
      "2022-09-29 16:32:51,304 : INFO : worker thread finished; awaiting finish of 4 more threads\n",
      "2022-09-29 16:32:51,312 : INFO : worker thread finished; awaiting finish of 3 more threads\n",
      "2022-09-29 16:32:51,332 : INFO : worker thread finished; awaiting finish of 2 more threads\n",
      "2022-09-29 16:32:51,354 : INFO : worker thread finished; awaiting finish of 1 more threads\n",
      "2022-09-29 16:32:51,355 : INFO : worker thread finished; awaiting finish of 0 more threads\n",
      "2022-09-29 16:32:51,356 : INFO : EPOCH - 1 : training on 104039 raw words (106186 effective words) took 0.2s, 463967 effective words/s\n",
      "2022-09-29 16:32:51,356 : INFO : Doc2Vec lifecycle event {'msg': 'training on 104039 raw words (106186 effective words) took 0.2s, 445187 effective words/s', 'datetime': '2022-09-29T16:32:51.356334', 'gensim': '4.0.1', 'python': '3.8.8 (default, Apr 13 2021, 15:08:03) [MSC v.1916 64 bit (AMD64)]', 'platform': 'Windows-10-10.0.22000-SP0', 'event': 'train'}\n",
      "2022-09-29 16:32:51,358 : INFO : Doc2Vec lifecycle event {'msg': 'training model with 8 workers on 7418 vocabulary and 300 features, using sg=1 hs=0 sample=0 negative=5 window=5', 'datetime': '2022-09-29T16:32:51.358352', 'gensim': '4.0.1', 'python': '3.8.8 (default, Apr 13 2021, 15:08:03) [MSC v.1916 64 bit (AMD64)]', 'platform': 'Windows-10-10.0.22000-SP0', 'event': 'train'}\n",
      "2022-09-29 16:32:51,541 : INFO : worker thread finished; awaiting finish of 7 more threads\n",
      "2022-09-29 16:32:51,544 : INFO : worker thread finished; awaiting finish of 6 more threads\n",
      "2022-09-29 16:32:51,548 : INFO : worker thread finished; awaiting finish of 5 more threads\n",
      "2022-09-29 16:32:51,549 : INFO : worker thread finished; awaiting finish of 4 more threads\n",
      "2022-09-29 16:32:51,550 : INFO : worker thread finished; awaiting finish of 3 more threads\n",
      "2022-09-29 16:32:51,573 : INFO : worker thread finished; awaiting finish of 2 more threads\n",
      "2022-09-29 16:32:51,593 : INFO : worker thread finished; awaiting finish of 1 more threads\n",
      "2022-09-29 16:32:51,594 : INFO : worker thread finished; awaiting finish of 0 more threads\n",
      "2022-09-29 16:32:51,594 : INFO : EPOCH - 1 : training on 104039 raw words (106186 effective words) took 0.2s, 469515 effective words/s\n",
      "2022-09-29 16:32:51,595 : INFO : Doc2Vec lifecycle event {'msg': 'training on 104039 raw words (106186 effective words) took 0.2s, 449132 effective words/s', 'datetime': '2022-09-29T16:32:51.595328', 'gensim': '4.0.1', 'python': '3.8.8 (default, Apr 13 2021, 15:08:03) [MSC v.1916 64 bit (AMD64)]', 'platform': 'Windows-10-10.0.22000-SP0', 'event': 'train'}\n",
      "2022-09-29 16:32:51,597 : INFO : Doc2Vec lifecycle event {'msg': 'training model with 8 workers on 7418 vocabulary and 300 features, using sg=1 hs=0 sample=0 negative=5 window=5', 'datetime': '2022-09-29T16:32:51.597241', 'gensim': '4.0.1', 'python': '3.8.8 (default, Apr 13 2021, 15:08:03) [MSC v.1916 64 bit (AMD64)]', 'platform': 'Windows-10-10.0.22000-SP0', 'event': 'train'}\n",
      "2022-09-29 16:32:51,775 : INFO : worker thread finished; awaiting finish of 7 more threads\n",
      "2022-09-29 16:32:51,782 : INFO : worker thread finished; awaiting finish of 6 more threads\n",
      "2022-09-29 16:32:51,785 : INFO : worker thread finished; awaiting finish of 5 more threads\n",
      "2022-09-29 16:32:51,789 : INFO : worker thread finished; awaiting finish of 4 more threads\n",
      "2022-09-29 16:32:51,792 : INFO : worker thread finished; awaiting finish of 3 more threads\n",
      "2022-09-29 16:32:51,815 : INFO : worker thread finished; awaiting finish of 2 more threads\n",
      "2022-09-29 16:32:51,835 : INFO : worker thread finished; awaiting finish of 1 more threads\n",
      "2022-09-29 16:32:51,838 : INFO : worker thread finished; awaiting finish of 0 more threads\n",
      "2022-09-29 16:32:51,839 : INFO : EPOCH - 1 : training on 104039 raw words (106186 effective words) took 0.2s, 456917 effective words/s\n",
      "2022-09-29 16:32:51,839 : INFO : Doc2Vec lifecycle event {'msg': 'training on 104039 raw words (106186 effective words) took 0.2s, 438677 effective words/s', 'datetime': '2022-09-29T16:32:51.839151', 'gensim': '4.0.1', 'python': '3.8.8 (default, Apr 13 2021, 15:08:03) [MSC v.1916 64 bit (AMD64)]', 'platform': 'Windows-10-10.0.22000-SP0', 'event': 'train'}\n",
      "2022-09-29 16:32:51,842 : INFO : Doc2Vec lifecycle event {'msg': 'training model with 8 workers on 7418 vocabulary and 300 features, using sg=1 hs=0 sample=0 negative=5 window=5', 'datetime': '2022-09-29T16:32:51.841138', 'gensim': '4.0.1', 'python': '3.8.8 (default, Apr 13 2021, 15:08:03) [MSC v.1916 64 bit (AMD64)]', 'platform': 'Windows-10-10.0.22000-SP0', 'event': 'train'}\n",
      "2022-09-29 16:32:52,027 : INFO : worker thread finished; awaiting finish of 7 more threads\n",
      "2022-09-29 16:32:52,030 : INFO : worker thread finished; awaiting finish of 6 more threads\n",
      "2022-09-29 16:32:52,031 : INFO : worker thread finished; awaiting finish of 5 more threads\n",
      "2022-09-29 16:32:52,033 : INFO : worker thread finished; awaiting finish of 4 more threads\n",
      "2022-09-29 16:32:52,037 : INFO : worker thread finished; awaiting finish of 3 more threads\n",
      "2022-09-29 16:32:52,054 : INFO : worker thread finished; awaiting finish of 2 more threads\n",
      "2022-09-29 16:32:52,075 : INFO : worker thread finished; awaiting finish of 1 more threads\n",
      "2022-09-29 16:32:52,077 : INFO : worker thread finished; awaiting finish of 0 more threads\n",
      "2022-09-29 16:32:52,078 : INFO : EPOCH - 1 : training on 104039 raw words (106186 effective words) took 0.2s, 468423 effective words/s\n"
     ]
    },
    {
     "name": "stderr",
     "output_type": "stream",
     "text": [
      "2022-09-29 16:32:52,079 : INFO : Doc2Vec lifecycle event {'msg': 'training on 104039 raw words (106186 effective words) took 0.2s, 448031 effective words/s', 'datetime': '2022-09-29T16:32:52.079053', 'gensim': '4.0.1', 'python': '3.8.8 (default, Apr 13 2021, 15:08:03) [MSC v.1916 64 bit (AMD64)]', 'platform': 'Windows-10-10.0.22000-SP0', 'event': 'train'}\n",
      "2022-09-29 16:32:52,081 : INFO : Doc2Vec lifecycle event {'msg': 'training model with 8 workers on 7418 vocabulary and 300 features, using sg=1 hs=0 sample=0 negative=5 window=5', 'datetime': '2022-09-29T16:32:52.081009', 'gensim': '4.0.1', 'python': '3.8.8 (default, Apr 13 2021, 15:08:03) [MSC v.1916 64 bit (AMD64)]', 'platform': 'Windows-10-10.0.22000-SP0', 'event': 'train'}\n",
      "2022-09-29 16:32:52,259 : INFO : worker thread finished; awaiting finish of 7 more threads\n",
      "2022-09-29 16:32:52,263 : INFO : worker thread finished; awaiting finish of 6 more threads\n",
      "2022-09-29 16:32:52,265 : INFO : worker thread finished; awaiting finish of 5 more threads\n",
      "2022-09-29 16:32:52,273 : INFO : worker thread finished; awaiting finish of 4 more threads\n",
      "2022-09-29 16:32:52,279 : INFO : worker thread finished; awaiting finish of 3 more threads\n",
      "2022-09-29 16:32:52,295 : INFO : worker thread finished; awaiting finish of 2 more threads\n",
      "2022-09-29 16:32:52,316 : INFO : worker thread finished; awaiting finish of 1 more threads\n",
      "2022-09-29 16:32:52,317 : INFO : worker thread finished; awaiting finish of 0 more threads\n",
      "2022-09-29 16:32:52,318 : INFO : EPOCH - 1 : training on 104039 raw words (106186 effective words) took 0.2s, 467678 effective words/s\n",
      "2022-09-29 16:32:52,319 : INFO : Doc2Vec lifecycle event {'msg': 'training on 104039 raw words (106186 effective words) took 0.2s, 447422 effective words/s', 'datetime': '2022-09-29T16:32:52.319434', 'gensim': '4.0.1', 'python': '3.8.8 (default, Apr 13 2021, 15:08:03) [MSC v.1916 64 bit (AMD64)]', 'platform': 'Windows-10-10.0.22000-SP0', 'event': 'train'}\n",
      "2022-09-29 16:32:52,321 : INFO : Doc2Vec lifecycle event {'msg': 'training model with 8 workers on 7418 vocabulary and 300 features, using sg=1 hs=0 sample=0 negative=5 window=5', 'datetime': '2022-09-29T16:32:52.321995', 'gensim': '4.0.1', 'python': '3.8.8 (default, Apr 13 2021, 15:08:03) [MSC v.1916 64 bit (AMD64)]', 'platform': 'Windows-10-10.0.22000-SP0', 'event': 'train'}\n",
      "2022-09-29 16:32:52,485 : INFO : worker thread finished; awaiting finish of 7 more threads\n",
      "2022-09-29 16:32:52,488 : INFO : worker thread finished; awaiting finish of 6 more threads\n",
      "2022-09-29 16:32:52,491 : INFO : worker thread finished; awaiting finish of 5 more threads\n",
      "2022-09-29 16:32:52,493 : INFO : worker thread finished; awaiting finish of 4 more threads\n",
      "2022-09-29 16:32:52,494 : INFO : worker thread finished; awaiting finish of 3 more threads\n",
      "2022-09-29 16:32:52,516 : INFO : worker thread finished; awaiting finish of 2 more threads\n",
      "2022-09-29 16:32:52,536 : INFO : worker thread finished; awaiting finish of 1 more threads\n",
      "2022-09-29 16:32:52,538 : INFO : worker thread finished; awaiting finish of 0 more threads\n",
      "2022-09-29 16:32:52,539 : INFO : EPOCH - 1 : training on 104039 raw words (106186 effective words) took 0.2s, 509907 effective words/s\n",
      "2022-09-29 16:32:52,540 : INFO : Doc2Vec lifecycle event {'msg': 'training on 104039 raw words (106186 effective words) took 0.2s, 488114 effective words/s', 'datetime': '2022-09-29T16:32:52.540635', 'gensim': '4.0.1', 'python': '3.8.8 (default, Apr 13 2021, 15:08:03) [MSC v.1916 64 bit (AMD64)]', 'platform': 'Windows-10-10.0.22000-SP0', 'event': 'train'}\n",
      "2022-09-29 16:32:52,542 : INFO : Doc2Vec lifecycle event {'msg': 'training model with 8 workers on 7418 vocabulary and 300 features, using sg=1 hs=0 sample=0 negative=5 window=5', 'datetime': '2022-09-29T16:32:52.542657', 'gensim': '4.0.1', 'python': '3.8.8 (default, Apr 13 2021, 15:08:03) [MSC v.1916 64 bit (AMD64)]', 'platform': 'Windows-10-10.0.22000-SP0', 'event': 'train'}\n",
      "2022-09-29 16:32:52,725 : INFO : worker thread finished; awaiting finish of 7 more threads\n",
      "2022-09-29 16:32:52,728 : INFO : worker thread finished; awaiting finish of 6 more threads\n",
      "2022-09-29 16:32:52,731 : INFO : worker thread finished; awaiting finish of 5 more threads\n",
      "2022-09-29 16:32:52,735 : INFO : worker thread finished; awaiting finish of 4 more threads\n",
      "2022-09-29 16:32:52,738 : INFO : worker thread finished; awaiting finish of 3 more threads\n",
      "2022-09-29 16:32:52,759 : INFO : worker thread finished; awaiting finish of 2 more threads\n",
      "2022-09-29 16:32:52,778 : INFO : worker thread finished; awaiting finish of 1 more threads\n",
      "2022-09-29 16:32:52,783 : INFO : worker thread finished; awaiting finish of 0 more threads\n",
      "2022-09-29 16:32:52,784 : INFO : EPOCH - 1 : training on 104039 raw words (106186 effective words) took 0.2s, 456668 effective words/s\n",
      "2022-09-29 16:32:52,784 : INFO : Doc2Vec lifecycle event {'msg': 'training on 104039 raw words (106186 effective words) took 0.2s, 439800 effective words/s', 'datetime': '2022-09-29T16:32:52.784650', 'gensim': '4.0.1', 'python': '3.8.8 (default, Apr 13 2021, 15:08:03) [MSC v.1916 64 bit (AMD64)]', 'platform': 'Windows-10-10.0.22000-SP0', 'event': 'train'}\n",
      "2022-09-29 16:32:52,786 : INFO : Doc2Vec lifecycle event {'msg': 'training model with 8 workers on 7418 vocabulary and 300 features, using sg=1 hs=0 sample=0 negative=5 window=5', 'datetime': '2022-09-29T16:32:52.786646', 'gensim': '4.0.1', 'python': '3.8.8 (default, Apr 13 2021, 15:08:03) [MSC v.1916 64 bit (AMD64)]', 'platform': 'Windows-10-10.0.22000-SP0', 'event': 'train'}\n",
      "2022-09-29 16:32:52,964 : INFO : worker thread finished; awaiting finish of 7 more threads\n",
      "2022-09-29 16:32:52,966 : INFO : worker thread finished; awaiting finish of 6 more threads\n",
      "2022-09-29 16:32:52,969 : INFO : worker thread finished; awaiting finish of 5 more threads\n",
      "2022-09-29 16:32:52,974 : INFO : worker thread finished; awaiting finish of 4 more threads\n",
      "2022-09-29 16:32:52,977 : INFO : worker thread finished; awaiting finish of 3 more threads\n",
      "2022-09-29 16:32:52,998 : INFO : worker thread finished; awaiting finish of 2 more threads\n",
      "2022-09-29 16:32:53,020 : INFO : worker thread finished; awaiting finish of 1 more threads\n",
      "2022-09-29 16:32:53,021 : INFO : worker thread finished; awaiting finish of 0 more threads\n",
      "2022-09-29 16:32:53,022 : INFO : EPOCH - 1 : training on 104039 raw words (106186 effective words) took 0.2s, 470872 effective words/s\n",
      "2022-09-29 16:32:53,023 : INFO : Doc2Vec lifecycle event {'msg': 'training on 104039 raw words (106186 effective words) took 0.2s, 452255 effective words/s', 'datetime': '2022-09-29T16:32:53.023054', 'gensim': '4.0.1', 'python': '3.8.8 (default, Apr 13 2021, 15:08:03) [MSC v.1916 64 bit (AMD64)]', 'platform': 'Windows-10-10.0.22000-SP0', 'event': 'train'}\n",
      "2022-09-29 16:32:53,024 : INFO : Doc2Vec lifecycle event {'msg': 'training model with 8 workers on 7418 vocabulary and 300 features, using sg=1 hs=0 sample=0 negative=5 window=5', 'datetime': '2022-09-29T16:32:53.024080', 'gensim': '4.0.1', 'python': '3.8.8 (default, Apr 13 2021, 15:08:03) [MSC v.1916 64 bit (AMD64)]', 'platform': 'Windows-10-10.0.22000-SP0', 'event': 'train'}\n",
      "2022-09-29 16:32:53,200 : INFO : worker thread finished; awaiting finish of 7 more threads\n",
      "2022-09-29 16:32:53,203 : INFO : worker thread finished; awaiting finish of 6 more threads\n",
      "2022-09-29 16:32:53,206 : INFO : worker thread finished; awaiting finish of 5 more threads\n",
      "2022-09-29 16:32:53,209 : INFO : worker thread finished; awaiting finish of 4 more threads\n",
      "2022-09-29 16:32:53,211 : INFO : worker thread finished; awaiting finish of 3 more threads\n",
      "2022-09-29 16:32:53,233 : INFO : worker thread finished; awaiting finish of 2 more threads\n",
      "2022-09-29 16:32:53,253 : INFO : worker thread finished; awaiting finish of 1 more threads\n",
      "2022-09-29 16:32:53,257 : INFO : worker thread finished; awaiting finish of 0 more threads\n",
      "2022-09-29 16:32:53,258 : INFO : EPOCH - 1 : training on 104039 raw words (106186 effective words) took 0.2s, 474591 effective words/s\n",
      "2022-09-29 16:32:53,258 : INFO : Doc2Vec lifecycle event {'msg': 'training on 104039 raw words (106186 effective words) took 0.2s, 454599 effective words/s', 'datetime': '2022-09-29T16:32:53.258939', 'gensim': '4.0.1', 'python': '3.8.8 (default, Apr 13 2021, 15:08:03) [MSC v.1916 64 bit (AMD64)]', 'platform': 'Windows-10-10.0.22000-SP0', 'event': 'train'}\n"
     ]
    },
    {
     "name": "stderr",
     "output_type": "stream",
     "text": [
      "2022-09-29 16:32:53,260 : INFO : Doc2Vec lifecycle event {'msg': 'training model with 8 workers on 7418 vocabulary and 300 features, using sg=1 hs=0 sample=0 negative=5 window=5', 'datetime': '2022-09-29T16:32:53.260161', 'gensim': '4.0.1', 'python': '3.8.8 (default, Apr 13 2021, 15:08:03) [MSC v.1916 64 bit (AMD64)]', 'platform': 'Windows-10-10.0.22000-SP0', 'event': 'train'}\n",
      "2022-09-29 16:32:53,431 : INFO : worker thread finished; awaiting finish of 7 more threads\n",
      "2022-09-29 16:32:53,435 : INFO : worker thread finished; awaiting finish of 6 more threads\n",
      "2022-09-29 16:32:53,436 : INFO : worker thread finished; awaiting finish of 5 more threads\n",
      "2022-09-29 16:32:53,443 : INFO : worker thread finished; awaiting finish of 4 more threads\n",
      "2022-09-29 16:32:53,449 : INFO : worker thread finished; awaiting finish of 3 more threads\n",
      "2022-09-29 16:32:53,461 : INFO : worker thread finished; awaiting finish of 2 more threads\n",
      "2022-09-29 16:32:53,486 : INFO : worker thread finished; awaiting finish of 1 more threads\n",
      "2022-09-29 16:32:53,487 : INFO : worker thread finished; awaiting finish of 0 more threads\n",
      "2022-09-29 16:32:53,487 : INFO : EPOCH - 1 : training on 104039 raw words (106186 effective words) took 0.2s, 484308 effective words/s\n",
      "2022-09-29 16:32:53,488 : INFO : Doc2Vec lifecycle event {'msg': 'training on 104039 raw words (106186 effective words) took 0.2s, 467258 effective words/s', 'datetime': '2022-09-29T16:32:53.488377', 'gensim': '4.0.1', 'python': '3.8.8 (default, Apr 13 2021, 15:08:03) [MSC v.1916 64 bit (AMD64)]', 'platform': 'Windows-10-10.0.22000-SP0', 'event': 'train'}\n",
      "2022-09-29 16:32:53,490 : INFO : Doc2Vec lifecycle event {'msg': 'training model with 8 workers on 7418 vocabulary and 300 features, using sg=1 hs=0 sample=0 negative=5 window=5', 'datetime': '2022-09-29T16:32:53.490341', 'gensim': '4.0.1', 'python': '3.8.8 (default, Apr 13 2021, 15:08:03) [MSC v.1916 64 bit (AMD64)]', 'platform': 'Windows-10-10.0.22000-SP0', 'event': 'train'}\n",
      "2022-09-29 16:32:53,665 : INFO : worker thread finished; awaiting finish of 7 more threads\n",
      "2022-09-29 16:32:53,667 : INFO : worker thread finished; awaiting finish of 6 more threads\n",
      "2022-09-29 16:32:53,670 : INFO : worker thread finished; awaiting finish of 5 more threads\n",
      "2022-09-29 16:32:53,671 : INFO : worker thread finished; awaiting finish of 4 more threads\n",
      "2022-09-29 16:32:53,672 : INFO : worker thread finished; awaiting finish of 3 more threads\n",
      "2022-09-29 16:32:53,701 : INFO : worker thread finished; awaiting finish of 2 more threads\n",
      "2022-09-29 16:32:53,713 : INFO : worker thread finished; awaiting finish of 1 more threads\n",
      "2022-09-29 16:32:53,714 : INFO : worker thread finished; awaiting finish of 0 more threads\n",
      "2022-09-29 16:32:53,715 : INFO : EPOCH - 1 : training on 104039 raw words (106186 effective words) took 0.2s, 494876 effective words/s\n",
      "2022-09-29 16:32:53,715 : INFO : Doc2Vec lifecycle event {'msg': 'training on 104039 raw words (106186 effective words) took 0.2s, 472675 effective words/s', 'datetime': '2022-09-29T16:32:53.715255', 'gensim': '4.0.1', 'python': '3.8.8 (default, Apr 13 2021, 15:08:03) [MSC v.1916 64 bit (AMD64)]', 'platform': 'Windows-10-10.0.22000-SP0', 'event': 'train'}\n",
      "2022-09-29 16:32:53,717 : INFO : Doc2Vec lifecycle event {'msg': 'training model with 8 workers on 7418 vocabulary and 300 features, using sg=1 hs=0 sample=0 negative=5 window=5', 'datetime': '2022-09-29T16:32:53.717251', 'gensim': '4.0.1', 'python': '3.8.8 (default, Apr 13 2021, 15:08:03) [MSC v.1916 64 bit (AMD64)]', 'platform': 'Windows-10-10.0.22000-SP0', 'event': 'train'}\n",
      "2022-09-29 16:32:53,888 : INFO : worker thread finished; awaiting finish of 7 more threads\n",
      "2022-09-29 16:32:53,892 : INFO : worker thread finished; awaiting finish of 6 more threads\n",
      "2022-09-29 16:32:53,894 : INFO : worker thread finished; awaiting finish of 5 more threads\n",
      "2022-09-29 16:32:53,899 : INFO : worker thread finished; awaiting finish of 4 more threads\n",
      "2022-09-29 16:32:53,900 : INFO : worker thread finished; awaiting finish of 3 more threads\n",
      "2022-09-29 16:32:53,922 : INFO : worker thread finished; awaiting finish of 2 more threads\n",
      "2022-09-29 16:32:53,946 : INFO : worker thread finished; awaiting finish of 1 more threads\n",
      "2022-09-29 16:32:53,947 : INFO : worker thread finished; awaiting finish of 0 more threads\n",
      "2022-09-29 16:32:53,948 : INFO : EPOCH - 1 : training on 104039 raw words (106186 effective words) took 0.2s, 480765 effective words/s\n",
      "2022-09-29 16:32:53,949 : INFO : Doc2Vec lifecycle event {'msg': 'training on 104039 raw words (106186 effective words) took 0.2s, 461240 effective words/s', 'datetime': '2022-09-29T16:32:53.948043', 'gensim': '4.0.1', 'python': '3.8.8 (default, Apr 13 2021, 15:08:03) [MSC v.1916 64 bit (AMD64)]', 'platform': 'Windows-10-10.0.22000-SP0', 'event': 'train'}\n",
      "2022-09-29 16:32:53,950 : INFO : Doc2Vec lifecycle event {'msg': 'training model with 8 workers on 7418 vocabulary and 300 features, using sg=1 hs=0 sample=0 negative=5 window=5', 'datetime': '2022-09-29T16:32:53.950448', 'gensim': '4.0.1', 'python': '3.8.8 (default, Apr 13 2021, 15:08:03) [MSC v.1916 64 bit (AMD64)]', 'platform': 'Windows-10-10.0.22000-SP0', 'event': 'train'}\n",
      "2022-09-29 16:32:54,123 : INFO : worker thread finished; awaiting finish of 7 more threads\n",
      "2022-09-29 16:32:54,136 : INFO : worker thread finished; awaiting finish of 6 more threads\n",
      "2022-09-29 16:32:54,137 : INFO : worker thread finished; awaiting finish of 5 more threads\n",
      "2022-09-29 16:32:54,140 : INFO : worker thread finished; awaiting finish of 4 more threads\n",
      "2022-09-29 16:32:54,142 : INFO : worker thread finished; awaiting finish of 3 more threads\n",
      "2022-09-29 16:32:54,159 : INFO : worker thread finished; awaiting finish of 2 more threads\n",
      "2022-09-29 16:32:54,184 : INFO : worker thread finished; awaiting finish of 1 more threads\n",
      "2022-09-29 16:32:54,185 : INFO : worker thread finished; awaiting finish of 0 more threads\n",
      "2022-09-29 16:32:54,185 : INFO : EPOCH - 1 : training on 104039 raw words (106186 effective words) took 0.2s, 470188 effective words/s\n",
      "2022-09-29 16:32:54,186 : INFO : Doc2Vec lifecycle event {'msg': 'training on 104039 raw words (106186 effective words) took 0.2s, 450869 effective words/s', 'datetime': '2022-09-29T16:32:54.186549', 'gensim': '4.0.1', 'python': '3.8.8 (default, Apr 13 2021, 15:08:03) [MSC v.1916 64 bit (AMD64)]', 'platform': 'Windows-10-10.0.22000-SP0', 'event': 'train'}\n"
     ]
    },
    {
     "name": "stdout",
     "output_type": "stream",
     "text": [
      "Wall time: 7.25 s\n"
     ]
    }
   ],
   "source": [
    "%%time\n",
    "for epoch in range(30):\n",
    "    model_dbow.train(utils.shuffle(data_train_p), total_examples=len(data_train_p), epochs=1)\n",
    "    model_dbow.alpha -= 0.002\n",
    "    model_dbow.min_alpha = model_dbow.alpha"
   ]
  },
  {
   "cell_type": "code",
   "execution_count": 18,
   "id": "6c9c333c",
   "metadata": {},
   "outputs": [],
   "source": [
    "def vec_for_learning(model, tagged_docs):\n",
    "    sents = tagged_docs\n",
    "    targets, regressors = zip(*[(doc.tags[0], model.infer_vector(doc.words, steps=20)) for doc in sents])\n",
    "    return targets, regressors"
   ]
  },
  {
   "cell_type": "code",
   "execution_count": 19,
   "id": "e3604927",
   "metadata": {},
   "outputs": [],
   "source": [
    "y_train, X_train_p = vec_for_learning(model_dbow, data_train_p)\n",
    "y_test, X_test_p = vec_for_learning(model_dbow, data_test_p)\n",
    "y_train, X_train_h = vec_for_learning(model_dbow, data_train_h)\n",
    "y_test, X_test_h = vec_for_learning(model_dbow, data_test_h)"
   ]
  },
  {
   "cell_type": "code",
   "execution_count": 20,
   "id": "479580e7",
   "metadata": {},
   "outputs": [],
   "source": [
    "a = np.hstack((X_train_p , X_train_h))\n",
    "b = np.hstack((X_test_p , X_test_h)) "
   ]
  },
  {
   "cell_type": "code",
   "execution_count": 21,
   "id": "058a339e",
   "metadata": {},
   "outputs": [],
   "source": [
    "# data preprocessing\n",
    "from sklearn.preprocessing import MinMaxScaler, Normalizer, StandardScaler\n",
    "\n",
    "scaler =  MinMaxScaler()\n",
    "scaler.fit(a)\n",
    "X_train = scaler.transform(a)\n",
    "X_test = scaler.transform(b)"
   ]
  },
  {
   "cell_type": "markdown",
   "id": "f74f13aa",
   "metadata": {},
   "source": [
    "## Naive Bayes Classifier"
   ]
  },
  {
   "cell_type": "code",
   "execution_count": 22,
   "id": "36b009d7",
   "metadata": {},
   "outputs": [
    {
     "name": "stdout",
     "output_type": "stream",
     "text": [
      "Classification report:\n",
      "              precision    recall  f1-score   support\n",
      "\n",
      "           0       0.38      0.10      0.15      1724\n",
      "           1       0.32      0.67      0.43      1499\n",
      "           2       0.34      0.26      0.30      1586\n",
      "\n",
      "    accuracy                           0.33      4809\n",
      "   macro avg       0.35      0.34      0.30      4809\n",
      "weighted avg       0.35      0.33      0.29      4809\n",
      "\n",
      "Confusion matrix:\n",
      "[[ 165 1125  434]\n",
      " [ 123 1010  366]\n",
      " [ 142 1025  419]]\n"
     ]
    }
   ],
   "source": [
    "model = MultinomialNB()\n",
    "\n",
    "model.fit(X_train,y_train)\n",
    "predictions = model.predict(X_test)\n",
    "\n",
    "print('Classification report:')\n",
    "print(classification_report(y_test, predictions))\n",
    "print('Confusion matrix:')\n",
    "cm = confusion_matrix(y_test, predictions)\n",
    "print(cm)"
   ]
  },
  {
   "cell_type": "markdown",
   "id": "f52a2e5c",
   "metadata": {},
   "source": [
    "## Linear SVM"
   ]
  },
  {
   "cell_type": "code",
   "execution_count": 23,
   "id": "726b2083",
   "metadata": {},
   "outputs": [
    {
     "name": "stdout",
     "output_type": "stream",
     "text": [
      "Accuracy 0.39904346017883136\n",
      "F1-score [0.4517556  0.44217321 0.24529128]\n",
      "              precision    recall  f1-score   support\n",
      "\n",
      "           0       0.43      0.47      0.45      1724\n",
      "           1       0.37      0.55      0.44      1499\n",
      "           2       0.40      0.18      0.25      1586\n",
      "\n",
      "    accuracy                           0.40      4809\n",
      "   macro avg       0.40      0.40      0.38      4809\n",
      "weighted avg       0.40      0.40      0.38      4809\n",
      "\n"
     ]
    },
    {
     "name": "stderr",
     "output_type": "stream",
     "text": [
      "C:\\Users\\eleon\\anaconda3\\lib\\site-packages\\sklearn\\svm\\_base.py:1225: ConvergenceWarning: Liblinear failed to converge, increase the number of iterations.\n",
      "  warnings.warn(\n"
     ]
    }
   ],
   "source": [
    "# without pipeline\n",
    "clf = LinearSVC(C=1.0, random_state=42)\n",
    "clf.fit(X_train, y_train)\n",
    "\n",
    "y_pred = clf.predict(X_test)\n",
    "\n",
    "print('Accuracy %s' % accuracy_score(y_test, y_pred))\n",
    "print('F1-score %s' % f1_score(y_test, y_pred, average=None))\n",
    "print(classification_report(y_test, y_pred))"
   ]
  },
  {
   "cell_type": "code",
   "execution_count": 24,
   "id": "5dded65b",
   "metadata": {},
   "outputs": [
    {
     "name": "stdout",
     "output_type": "stream",
     "text": [
      "Fitting 5 folds for each of 16 candidates, totalling 80 fits\n"
     ]
    }
   ],
   "source": [
    "#with pipeline and grid serach\n",
    "param_grid = [{'sel__k': [8, 10, 50,'all'], 'learner__C': [0.1, 0.5, 1, 10]}]\n",
    "\n",
    "opt_pipeline = Pipeline([\n",
    "    \n",
    "    ('sel', SelectKBest(chi2)),  # feature selection\n",
    "    ('tfidf', TfidfTransformer()),  # weighting\n",
    "    ('learner', LinearSVC())  # learning algorithm\n",
    "])\n",
    "\n",
    "n_jobs = 3 #Number of jobs to run in parallel\n",
    "SVM_opt_search = GridSearchCV(opt_pipeline, param_grid, n_jobs = n_jobs, verbose=True).fit(X_train,y_train)"
   ]
  },
  {
   "cell_type": "code",
   "execution_count": 25,
   "id": "7cff2d3a",
   "metadata": {},
   "outputs": [
    {
     "data": {
      "text/plain": [
       "{'learner__C': 1, 'sel__k': 'all'}"
      ]
     },
     "execution_count": 25,
     "metadata": {},
     "output_type": "execute_result"
    }
   ],
   "source": [
    "SVM_opt_search.best_params_"
   ]
  },
  {
   "cell_type": "code",
   "execution_count": 26,
   "id": "b1a5f7ad",
   "metadata": {},
   "outputs": [
    {
     "name": "stdout",
     "output_type": "stream",
     "text": [
      "Classification report:\n",
      "              precision    recall  f1-score   support\n",
      "\n",
      "           0       0.46      0.41      0.43      1724\n",
      "           1       0.36      0.62      0.46      1499\n",
      "           2       0.39      0.18      0.24      1586\n",
      "\n",
      "    accuracy                           0.40      4809\n",
      "   macro avg       0.41      0.40      0.38      4809\n",
      "weighted avg       0.41      0.40      0.38      4809\n",
      "\n",
      "Confusion matrix:\n",
      "[[703 808 213]\n",
      " [344 934 221]\n",
      " [483 823 280]]\n"
     ]
    }
   ],
   "source": [
    "opt_predictions = SVM_opt_search.best_estimator_.predict(X_test)\n",
    "\n",
    "print('Classification report:')\n",
    "print(classification_report(y_test, opt_predictions, zero_division = 1))\n",
    "print('Confusion matrix:')\n",
    "cm = confusion_matrix(y_test, opt_predictions)\n",
    "print(cm)"
   ]
  },
  {
   "cell_type": "code",
   "execution_count": 30,
   "id": "397badfe",
   "metadata": {},
   "outputs": [],
   "source": [
    "from sklearn.svm import SVC"
   ]
  },
  {
   "cell_type": "code",
   "execution_count": 31,
   "id": "2ffc08c5",
   "metadata": {
    "scrolled": true
   },
   "outputs": [
    {
     "name": "stdout",
     "output_type": "stream",
     "text": [
      "Accuracy 0.3584944894988563\n",
      "F1-score [0.52778203 0.         0.        ]\n",
      "              precision    recall  f1-score   support\n",
      "\n",
      "           0       0.36      1.00      0.53      1724\n",
      "           1       0.00      0.00      0.00      1499\n",
      "           2       0.00      0.00      0.00      1586\n",
      "\n",
      "    accuracy                           0.36      4809\n",
      "   macro avg       0.12      0.33      0.18      4809\n",
      "weighted avg       0.13      0.36      0.19      4809\n",
      "\n"
     ]
    },
    {
     "name": "stderr",
     "output_type": "stream",
     "text": [
      "C:\\Users\\eleon\\anaconda3\\lib\\site-packages\\sklearn\\metrics\\_classification.py:1334: UndefinedMetricWarning: Precision and F-score are ill-defined and being set to 0.0 in labels with no predicted samples. Use `zero_division` parameter to control this behavior.\n",
      "  _warn_prf(average, modifier, msg_start, len(result))\n",
      "C:\\Users\\eleon\\anaconda3\\lib\\site-packages\\sklearn\\metrics\\_classification.py:1334: UndefinedMetricWarning: Precision and F-score are ill-defined and being set to 0.0 in labels with no predicted samples. Use `zero_division` parameter to control this behavior.\n",
      "  _warn_prf(average, modifier, msg_start, len(result))\n",
      "C:\\Users\\eleon\\anaconda3\\lib\\site-packages\\sklearn\\metrics\\_classification.py:1334: UndefinedMetricWarning: Precision and F-score are ill-defined and being set to 0.0 in labels with no predicted samples. Use `zero_division` parameter to control this behavior.\n",
      "  _warn_prf(average, modifier, msg_start, len(result))\n"
     ]
    }
   ],
   "source": [
    "clf = clf = SVC(gamma='auto', C=0.1, kernel='rbf', random_state=42)\n",
    "clf.fit(X_train, y_train)\n",
    "\n",
    "y_pred = clf.predict(X_test)\n",
    "\n",
    "print('Accuracy %s' % accuracy_score(y_test, y_pred))\n",
    "print('F1-score %s' % f1_score(y_test, y_pred, average=None))\n",
    "print(classification_report(y_test, y_pred))"
   ]
  },
  {
   "cell_type": "code",
   "execution_count": 33,
   "id": "918e7e2e",
   "metadata": {},
   "outputs": [
    {
     "data": {
      "text/plain": [
       "{'C': 0.1,\n",
       " 'break_ties': False,\n",
       " 'cache_size': 200,\n",
       " 'class_weight': None,\n",
       " 'coef0': 0.0,\n",
       " 'decision_function_shape': 'ovr',\n",
       " 'degree': 3,\n",
       " 'gamma': 'auto',\n",
       " 'kernel': 'rbf',\n",
       " 'max_iter': -1,\n",
       " 'probability': False,\n",
       " 'random_state': 42,\n",
       " 'shrinking': True,\n",
       " 'tol': 0.001,\n",
       " 'verbose': False}"
      ]
     },
     "execution_count": 33,
     "metadata": {},
     "output_type": "execute_result"
    }
   ],
   "source": [
    "clf.get_params()"
   ]
  },
  {
   "cell_type": "code",
   "execution_count": 29,
   "id": "dbb4f2ca",
   "metadata": {},
   "outputs": [
    {
     "name": "stdout",
     "output_type": "stream",
     "text": [
      "Fitting 5 folds for each of 16 candidates, totalling 80 fits\n"
     ]
    }
   ],
   "source": [
    "#with pipeline and grid serach\n",
    "param_grid = [{'sel__k': [8, 10, 50,'all'], 'learner__C': [0.1, 0.5, 1, 10]}]\n",
    "\n",
    "opt_pipeline = Pipeline([\n",
    "    \n",
    "    ('sel', SelectKBest(chi2)),  # feature selection\n",
    "    ('tfidf', TfidfTransformer()),  # weighting\n",
    "    ('learner', SVC(kernel= 'rbf'))  # learning algorithm\n",
    "])\n",
    "\n",
    "n_jobs = 3 #Number of jobs to run in parallel\n",
    "SVM_opt_search = GridSearchCV(opt_pipeline, param_grid, n_jobs = n_jobs, verbose=True).fit(X_train,y_train)"
   ]
  },
  {
   "cell_type": "code",
   "execution_count": 30,
   "id": "9aec45ee",
   "metadata": {},
   "outputs": [
    {
     "name": "stdout",
     "output_type": "stream",
     "text": [
      "Classification report:\n",
      "              precision    recall  f1-score   support\n",
      "\n",
      "           0       0.31      0.49      0.38       703\n",
      "           1       0.27      0.15      0.19       667\n",
      "           2       0.28      0.24      0.26       691\n",
      "\n",
      "    accuracy                           0.29      2061\n",
      "   macro avg       0.29      0.29      0.28      2061\n",
      "weighted avg       0.29      0.29      0.28      2061\n",
      "\n",
      "Confusion matrix:\n",
      "[[345 129 229]\n",
      " [385  98 184]\n",
      " [389 138 164]]\n"
     ]
    }
   ],
   "source": [
    "opt_predictions = SVM_opt_search.best_estimator_.predict(X_test)\n",
    "\n",
    "print('Classification report:')\n",
    "print(classification_report(y_test, opt_predictions, zero_division = 1))\n",
    "print('Confusion matrix:')\n",
    "cm = confusion_matrix(y_test, opt_predictions)\n",
    "print(cm)"
   ]
  },
  {
   "cell_type": "markdown",
   "id": "875fd266",
   "metadata": {},
   "source": [
    "## Random Forest"
   ]
  },
  {
   "cell_type": "code",
   "execution_count": 27,
   "id": "a543ecaa",
   "metadata": {},
   "outputs": [
    {
     "name": "stdout",
     "output_type": "stream",
     "text": [
      "Classification report:\n",
      "              precision    recall  f1-score   support\n",
      "\n",
      "           0       0.40      0.43      0.42      1724\n",
      "           1       0.35      0.54      0.43      1499\n",
      "           2       0.39      0.17      0.24      1586\n",
      "\n",
      "    accuracy                           0.38      4809\n",
      "   macro avg       0.38      0.38      0.36      4809\n",
      "weighted avg       0.38      0.38      0.36      4809\n",
      "\n",
      "Confusion matrix:\n",
      "[[744 745 235]\n",
      " [507 803 189]\n",
      " [596 718 272]]\n"
     ]
    }
   ],
   "source": [
    "rd =  RandomForestClassifier(bootstrap = True)\n",
    "rd.fit(X_train,y_train)\n",
    "pred = rd.predict(X_test)\n",
    "\n",
    "print('Classification report:')\n",
    "print(classification_report(y_test, pred, zero_division = 1))\n",
    "print('Confusion matrix:')\n",
    "cm = confusion_matrix(y_test, pred)\n",
    "print(cm)"
   ]
  },
  {
   "cell_type": "code",
   "execution_count": 28,
   "id": "fb74d94a",
   "metadata": {},
   "outputs": [
    {
     "name": "stdout",
     "output_type": "stream",
     "text": [
      "Fitting 5 folds for each of 16 candidates, totalling 80 fits\n"
     ]
    }
   ],
   "source": [
    "param_grid = [{'sel__k': [8, 10, 50,'all'], 'learner__n_estimators': [200, 300, 500, 700]}]\n",
    "\n",
    "opt_pipeline = Pipeline([\n",
    "    ('sel', SelectKBest(chi2)),  # feature selection\n",
    "    ('tfidf', TfidfTransformer()),  # weighting\n",
    "    ('learner', RandomForestClassifier(bootstrap = True))  # learning algorithm\n",
    "])\n",
    "\n",
    "n_jobs = 3 #Number of jobs to run in parallel\n",
    "opt_search = GridSearchCV(opt_pipeline, param_grid, cv=5, n_jobs = n_jobs, verbose=True).fit(X_train,y_train)"
   ]
  },
  {
   "cell_type": "code",
   "execution_count": 29,
   "id": "c730a6ca",
   "metadata": {},
   "outputs": [
    {
     "data": {
      "text/plain": [
       "{'learner__n_estimators': 500, 'sel__k': 'all'}"
      ]
     },
     "execution_count": 29,
     "metadata": {},
     "output_type": "execute_result"
    }
   ],
   "source": [
    "opt_search.best_params_"
   ]
  },
  {
   "cell_type": "code",
   "execution_count": 30,
   "id": "5b8317e2",
   "metadata": {},
   "outputs": [
    {
     "name": "stdout",
     "output_type": "stream",
     "text": [
      "Classification report:\n",
      "              precision    recall  f1-score   support\n",
      "\n",
      "           0       0.41      0.51      0.45      1724\n",
      "           1       0.36      0.48      0.41      1499\n",
      "           2       0.36      0.15      0.21      1586\n",
      "\n",
      "    accuracy                           0.38      4809\n",
      "   macro avg       0.38      0.38      0.36      4809\n",
      "weighted avg       0.38      0.38      0.36      4809\n",
      "\n",
      "Confusion matrix:\n",
      "[[872 629 223]\n",
      " [573 723 203]\n",
      " [679 669 238]]\n"
     ]
    }
   ],
   "source": [
    "opt_predictions = opt_search.best_estimator_.predict(X_test)\n",
    "\n",
    "print('Classification report:')\n",
    "print(classification_report(y_test, opt_predictions, zero_division = 1))\n",
    "print('Confusion matrix:')\n",
    "cm = confusion_matrix(y_test, opt_predictions)\n",
    "print(cm)"
   ]
  },
  {
   "cell_type": "code",
   "execution_count": null,
   "id": "8661fb2a",
   "metadata": {},
   "outputs": [],
   "source": []
  }
 ],
 "metadata": {
  "kernelspec": {
   "display_name": "Python 3",
   "language": "python",
   "name": "python3"
  },
  "language_info": {
   "codemirror_mode": {
    "name": "ipython",
    "version": 3
   },
   "file_extension": ".py",
   "mimetype": "text/x-python",
   "name": "python",
   "nbconvert_exporter": "python",
   "pygments_lexer": "ipython3",
   "version": "3.8.8"
  }
 },
 "nbformat": 4,
 "nbformat_minor": 5
}
