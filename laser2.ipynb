{
 "cells": [
  {
   "cell_type": "code",
   "execution_count": 1,
   "id": "3c91e5d9",
   "metadata": {},
   "outputs": [],
   "source": [
    "import pandas as pd\n",
    "import numpy as np"
   ]
  },
  {
   "cell_type": "code",
   "execution_count": 2,
   "id": "1f678821",
   "metadata": {},
   "outputs": [],
   "source": [
    "import pickle\n",
    "from sklearn.feature_extraction.text import TfidfTransformer, CountVectorizer, TfidfVectorizer\n",
    "from sklearn.feature_selection import SelectKBest, chi2\n",
    "from sklearn.model_selection import GridSearchCV\n",
    "from sklearn.pipeline import Pipeline\n",
    "from sklearn.naive_bayes import MultinomialNB\n",
    "from sklearn.tree import DecisionTreeClassifier\n",
    "from sklearn.svm import LinearSVC\n",
    "from sklearn.ensemble import RandomForestClassifier\n",
    "from sklearn.metrics import confusion_matrix, classification_report\n",
    "from sklearn.metrics import plot_confusion_matrix\n",
    "from sklearn.metrics import f1_score\n",
    "from sklearn.model_selection import train_test_split, cross_val_score \n",
    "from sklearn.metrics import accuracy_score, f1_score, classification_report\n",
    "from sklearn.metrics import roc_curve, auc, roc_auc_score"
   ]
  },
  {
   "cell_type": "code",
   "execution_count": 3,
   "id": "b81b5376",
   "metadata": {},
   "outputs": [],
   "source": [
    "from laserembeddings import Laser\n",
    "\n",
    "laser = Laser()"
   ]
  },
  {
   "cell_type": "code",
   "execution_count": 4,
   "id": "1a5a67c9",
   "metadata": {},
   "outputs": [
    {
     "data": {
      "text/html": [
       "<div>\n",
       "<style scoped>\n",
       "    .dataframe tbody tr th:only-of-type {\n",
       "        vertical-align: middle;\n",
       "    }\n",
       "\n",
       "    .dataframe tbody tr th {\n",
       "        vertical-align: top;\n",
       "    }\n",
       "\n",
       "    .dataframe thead th {\n",
       "        text-align: right;\n",
       "    }\n",
       "</style>\n",
       "<table border=\"1\" class=\"dataframe\">\n",
       "  <thead>\n",
       "    <tr style=\"text-align: right;\">\n",
       "      <th></th>\n",
       "      <th>id</th>\n",
       "      <th>premise</th>\n",
       "      <th>hypothesis</th>\n",
       "      <th>lang_abv</th>\n",
       "      <th>language</th>\n",
       "      <th>label</th>\n",
       "    </tr>\n",
       "  </thead>\n",
       "  <tbody>\n",
       "    <tr>\n",
       "      <th>0</th>\n",
       "      <td>5130fd2cb5</td>\n",
       "      <td>and these comments were considered in formulat...</td>\n",
       "      <td>The rules developed in the interim were put to...</td>\n",
       "      <td>en</td>\n",
       "      <td>English</td>\n",
       "      <td>0</td>\n",
       "    </tr>\n",
       "    <tr>\n",
       "      <th>1</th>\n",
       "      <td>5b72532a0b</td>\n",
       "      <td>These are issues that we wrestle with in pract...</td>\n",
       "      <td>Practice groups are not permitted to work on t...</td>\n",
       "      <td>en</td>\n",
       "      <td>English</td>\n",
       "      <td>2</td>\n",
       "    </tr>\n",
       "    <tr>\n",
       "      <th>2</th>\n",
       "      <td>3931fbe82a</td>\n",
       "      <td>Des petites choses comme celles-là font une di...</td>\n",
       "      <td>J'essayais d'accomplir quelque chose.</td>\n",
       "      <td>fr</td>\n",
       "      <td>French</td>\n",
       "      <td>0</td>\n",
       "    </tr>\n",
       "    <tr>\n",
       "      <th>3</th>\n",
       "      <td>5622f0c60b</td>\n",
       "      <td>you know they can't really defend themselves l...</td>\n",
       "      <td>They can't defend themselves because of their ...</td>\n",
       "      <td>en</td>\n",
       "      <td>English</td>\n",
       "      <td>0</td>\n",
       "    </tr>\n",
       "    <tr>\n",
       "      <th>4</th>\n",
       "      <td>86aaa48b45</td>\n",
       "      <td>ในการเล่นบทบาทสมมุติก็เช่นกัน โอกาสที่จะได้แสด...</td>\n",
       "      <td>เด็กสามารถเห็นได้ว่าชาติพันธุ์แตกต่างกันอย่างไร</td>\n",
       "      <td>th</td>\n",
       "      <td>Thai</td>\n",
       "      <td>1</td>\n",
       "    </tr>\n",
       "    <tr>\n",
       "      <th>...</th>\n",
       "      <td>...</td>\n",
       "      <td>...</td>\n",
       "      <td>...</td>\n",
       "      <td>...</td>\n",
       "      <td>...</td>\n",
       "      <td>...</td>\n",
       "    </tr>\n",
       "    <tr>\n",
       "      <th>12115</th>\n",
       "      <td>2b78e2a914</td>\n",
       "      <td>The results of even the most well designed epi...</td>\n",
       "      <td>All studies have the same amount of uncertaint...</td>\n",
       "      <td>en</td>\n",
       "      <td>English</td>\n",
       "      <td>2</td>\n",
       "    </tr>\n",
       "    <tr>\n",
       "      <th>12116</th>\n",
       "      <td>7e9943d152</td>\n",
       "      <td>But there are two kinds of  the pleasure of do...</td>\n",
       "      <td>But there are two kinds of the pleasure of doi...</td>\n",
       "      <td>en</td>\n",
       "      <td>English</td>\n",
       "      <td>0</td>\n",
       "    </tr>\n",
       "    <tr>\n",
       "      <th>12117</th>\n",
       "      <td>5085923e6c</td>\n",
       "      <td>The important thing is to realize that it's wa...</td>\n",
       "      <td>It cannot be moved, now or ever.</td>\n",
       "      <td>en</td>\n",
       "      <td>English</td>\n",
       "      <td>2</td>\n",
       "    </tr>\n",
       "    <tr>\n",
       "      <th>12118</th>\n",
       "      <td>fc8e2fd1fe</td>\n",
       "      <td>At the west end is a detailed model of the who...</td>\n",
       "      <td>The model temple complex is at the east end.</td>\n",
       "      <td>en</td>\n",
       "      <td>English</td>\n",
       "      <td>2</td>\n",
       "    </tr>\n",
       "    <tr>\n",
       "      <th>12119</th>\n",
       "      <td>44301dfb14</td>\n",
       "      <td>For himself he chose Atat??rk, or Father of th...</td>\n",
       "      <td>Ataturk was the father of the Turkish nation.</td>\n",
       "      <td>en</td>\n",
       "      <td>English</td>\n",
       "      <td>0</td>\n",
       "    </tr>\n",
       "  </tbody>\n",
       "</table>\n",
       "<p>12120 rows × 6 columns</p>\n",
       "</div>"
      ],
      "text/plain": [
       "               id                                            premise  \\\n",
       "0      5130fd2cb5  and these comments were considered in formulat...   \n",
       "1      5b72532a0b  These are issues that we wrestle with in pract...   \n",
       "2      3931fbe82a  Des petites choses comme celles-là font une di...   \n",
       "3      5622f0c60b  you know they can't really defend themselves l...   \n",
       "4      86aaa48b45  ในการเล่นบทบาทสมมุติก็เช่นกัน โอกาสที่จะได้แสด...   \n",
       "...           ...                                                ...   \n",
       "12115  2b78e2a914  The results of even the most well designed epi...   \n",
       "12116  7e9943d152  But there are two kinds of  the pleasure of do...   \n",
       "12117  5085923e6c  The important thing is to realize that it's wa...   \n",
       "12118  fc8e2fd1fe  At the west end is a detailed model of the who...   \n",
       "12119  44301dfb14  For himself he chose Atat??rk, or Father of th...   \n",
       "\n",
       "                                              hypothesis lang_abv language  \\\n",
       "0      The rules developed in the interim were put to...       en  English   \n",
       "1      Practice groups are not permitted to work on t...       en  English   \n",
       "2                  J'essayais d'accomplir quelque chose.       fr   French   \n",
       "3      They can't defend themselves because of their ...       en  English   \n",
       "4        เด็กสามารถเห็นได้ว่าชาติพันธุ์แตกต่างกันอย่างไร       th     Thai   \n",
       "...                                                  ...      ...      ...   \n",
       "12115  All studies have the same amount of uncertaint...       en  English   \n",
       "12116  But there are two kinds of the pleasure of doi...       en  English   \n",
       "12117                   It cannot be moved, now or ever.       en  English   \n",
       "12118       The model temple complex is at the east end.       en  English   \n",
       "12119      Ataturk was the father of the Turkish nation.       en  English   \n",
       "\n",
       "       label  \n",
       "0          0  \n",
       "1          2  \n",
       "2          0  \n",
       "3          0  \n",
       "4          1  \n",
       "...      ...  \n",
       "12115      2  \n",
       "12116      0  \n",
       "12117      2  \n",
       "12118      2  \n",
       "12119      0  \n",
       "\n",
       "[12120 rows x 6 columns]"
      ]
     },
     "execution_count": 4,
     "metadata": {},
     "output_type": "execute_result"
    }
   ],
   "source": [
    "dt = pd.read_csv('train.csv')\n",
    "dt"
   ]
  },
  {
   "cell_type": "code",
   "execution_count": 5,
   "id": "ea614a69",
   "metadata": {},
   "outputs": [],
   "source": [
    "att = ['premise','hypothesis']\n",
    "x = dt[att].values\n",
    "y = dt.label.values\n",
    "z = dt.lang_abv.values\n",
    "# split train and test\n",
    "x_train, x_test, y_train, y_test,z_train,z_test = train_test_split(x, y,z, test_size=0.3, random_state=0)"
   ]
  },
  {
   "cell_type": "code",
   "execution_count": 6,
   "id": "5a16aa21",
   "metadata": {},
   "outputs": [
    {
     "data": {
      "text/plain": [
       "array([['เมื่อการตัดสินใจเหล่านี้ได้เกิดขึ้นไปแล้ว, องค์กร CIO ต้องให้การสนับสนุนที่มีประสิทธิภาพและพร้อมตอบสนองผ่านการจัดสรรทรัพยากรที่มีประสิทธิภาพและการดำเนินการตามหน้าที่ในแต่ละวัน',\n",
       "        'องค์กร CIO มักจะมีบุคลากรเจ็ดคนที่คอยให้การสนับสนุนในกรณีเหล่านี้'],\n",
       "       [\"Do you know how long we've been here? he asked one morning as they sat facing each other at breakfast.\",\n",
       "        'They were sitting across from each other at breakfast.  '],\n",
       "       [\"Look for these items in the picturesque open-air market of Sa Penya (Ibiza Town) or for a wider selection at the bustling, covered central market in the newer part of town (carrer d'Extremadura).\",\n",
       "        \"You can't find anything at the open-air market.\"],\n",
       "       ...,\n",
       "       ['Anfang Mai 1996 bekam die CIA mit, dass Bin Laden den Sudan vielleicht verlassen hatte.',\n",
       "        'Die CIA war sich sicher, dass Bin Ladin mehrere Jahre im Sudan bleiben würde.'],\n",
       "       ['Sie war es nun, die sich verteidigte, ihre Stimme zitterte vor Entrüstung.',\n",
       "        'Die Frau war so erfreut, dass sie sprachlos war!'],\n",
       "       ['उन्होंने कहा, हम आपके लिए रहने के लिए एक जगह का भुगतान कर रहे हैं।',\n",
       "        'वे आवास के लिए भुगतान कर रहे हैं।']], dtype=object)"
      ]
     },
     "execution_count": 6,
     "metadata": {},
     "output_type": "execute_result"
    }
   ],
   "source": [
    "x_train"
   ]
  },
  {
   "cell_type": "code",
   "execution_count": 7,
   "id": "b4da04f2",
   "metadata": {},
   "outputs": [],
   "source": [
    "embeddings = laser.embed_sentences([x for x in x_train], lang = z_train)"
   ]
  },
  {
   "cell_type": "code",
   "execution_count": 8,
   "id": "6aa35263",
   "metadata": {},
   "outputs": [],
   "source": [
    "test_emb = laser.embed_sentences([x for x in x_test], lang = z_test)"
   ]
  },
  {
   "cell_type": "code",
   "execution_count": 9,
   "id": "58e5049f",
   "metadata": {},
   "outputs": [],
   "source": [
    "from sklearn.ensemble import RandomForestClassifier"
   ]
  },
  {
   "cell_type": "code",
   "execution_count": 10,
   "id": "1e79b9a9",
   "metadata": {},
   "outputs": [
    {
     "name": "stdout",
     "output_type": "stream",
     "text": [
      "Classification report:\n",
      "              precision    recall  f1-score   support\n",
      "\n",
      "           0       0.37      0.44      0.40      1237\n",
      "           1       0.34      0.29      0.31      1147\n",
      "           2       0.52      0.51      0.51      1252\n",
      "\n",
      "    accuracy                           0.41      3636\n",
      "   macro avg       0.41      0.41      0.41      3636\n",
      "weighted avg       0.41      0.41      0.41      3636\n",
      "\n",
      "Confusion matrix:\n",
      "[[542 380 315]\n",
      " [546 329 272]\n",
      " [363 256 633]]\n"
     ]
    }
   ],
   "source": [
    "model = RandomForestClassifier()\n",
    "model.fit(embeddings,y_train)\n",
    "\n",
    "predictions = model.predict(test_emb)\n",
    "print('Classification report:')\n",
    "print(classification_report(y_test, predictions))\n",
    "print('Confusion matrix:')\n",
    "cm = confusion_matrix(y_test, predictions)\n",
    "print(cm)"
   ]
  },
  {
   "cell_type": "code",
   "execution_count": 11,
   "id": "b0726876",
   "metadata": {},
   "outputs": [
    {
     "data": {
      "text/plain": [
       "{'bootstrap': True,\n",
       " 'ccp_alpha': 0.0,\n",
       " 'class_weight': None,\n",
       " 'criterion': 'gini',\n",
       " 'max_depth': None,\n",
       " 'max_features': 'sqrt',\n",
       " 'max_leaf_nodes': None,\n",
       " 'max_samples': None,\n",
       " 'min_impurity_decrease': 0.0,\n",
       " 'min_samples_leaf': 1,\n",
       " 'min_samples_split': 2,\n",
       " 'min_weight_fraction_leaf': 0.0,\n",
       " 'n_estimators': 100,\n",
       " 'n_jobs': None,\n",
       " 'oob_score': False,\n",
       " 'random_state': None,\n",
       " 'verbose': 0,\n",
       " 'warm_start': False}"
      ]
     },
     "execution_count": 11,
     "metadata": {},
     "output_type": "execute_result"
    }
   ],
   "source": [
    "model.get_params()"
   ]
  },
  {
   "cell_type": "code",
   "execution_count": 12,
   "id": "f668459c",
   "metadata": {},
   "outputs": [],
   "source": [
    "# data preprocessing\n",
    "from sklearn.preprocessing import MinMaxScaler, Normalizer, StandardScaler\n",
    "\n",
    "scaler =  MinMaxScaler()\n",
    "scaler.fit(embeddings)\n",
    "X_train = scaler.transform(embeddings)\n",
    "X_test = scaler.transform(test_emb)"
   ]
  },
  {
   "cell_type": "code",
   "execution_count": 14,
   "id": "7e3933d1",
   "metadata": {},
   "outputs": [
    {
     "data": {
      "text/plain": [
       "array([[0.01278635, 0.5170854 , 0.11741445, ..., 0.14744645, 0.2308203 ,\n",
       "        0.38356936],\n",
       "       [0.3503492 , 0.01717918, 0.40047732, ..., 0.13208878, 0.21195005,\n",
       "        0.12989312],\n",
       "       [0.22499782, 0.08465517, 0.03610615, ..., 0.1491424 , 0.18939966,\n",
       "        0.33392096],\n",
       "       ...,\n",
       "       [0.26795074, 0.12592493, 0.19175988, ..., 0.700072  , 0.07396051,\n",
       "        0.4130329 ],\n",
       "       [0.06575781, 0.01653911, 0.3116452 , ..., 0.3380569 , 0.32759273,\n",
       "        0.16503885],\n",
       "       [0.04050301, 0.01984304, 0.06389633, ..., 0.09394635, 0.11500198,\n",
       "        0.15911175]], dtype=float32)"
      ]
     },
     "execution_count": 14,
     "metadata": {},
     "output_type": "execute_result"
    }
   ],
   "source": [
    "X_train"
   ]
  },
  {
   "cell_type": "code",
   "execution_count": 13,
   "id": "d89c903a",
   "metadata": {},
   "outputs": [
    {
     "name": "stdout",
     "output_type": "stream",
     "text": [
      "Fitting 5 folds for each of 16 candidates, totalling 80 fits\n"
     ]
    },
    {
     "name": "stderr",
     "output_type": "stream",
     "text": [
      "C:\\Users\\eleon\\anaconda3\\lib\\site-packages\\sklearn\\model_selection\\_validation.py:378: FitFailedWarning: \n",
      "40 fits failed out of a total of 80.\n",
      "The score on these train-test partitions for these parameters will be set to nan.\n",
      "If these failures are not expected, you can try to debug them by setting error_score='raise'.\n",
      "\n",
      "Below are more details about the failures:\n",
      "--------------------------------------------------------------------------------\n",
      "40 fits failed with the following error:\n",
      "Traceback (most recent call last):\n",
      "  File \"C:\\Users\\eleon\\anaconda3\\lib\\site-packages\\sklearn\\model_selection\\_validation.py\", line 686, in _fit_and_score\n",
      "    estimator.fit(X_train, y_train, **fit_params)\n",
      "  File \"C:\\Users\\eleon\\anaconda3\\lib\\site-packages\\sklearn\\pipeline.py\", line 378, in fit\n",
      "    Xt = self._fit(X, y, **fit_params_steps)\n",
      "  File \"C:\\Users\\eleon\\anaconda3\\lib\\site-packages\\sklearn\\pipeline.py\", line 336, in _fit\n",
      "    X, fitted_transformer = fit_transform_one_cached(\n",
      "  File \"C:\\Users\\eleon\\anaconda3\\lib\\site-packages\\joblib\\memory.py\", line 352, in __call__\n",
      "    return self.func(*args, **kwargs)\n",
      "  File \"C:\\Users\\eleon\\anaconda3\\lib\\site-packages\\sklearn\\pipeline.py\", line 870, in _fit_transform_one\n",
      "    res = transformer.fit_transform(X, y, **fit_params)\n",
      "  File \"C:\\Users\\eleon\\anaconda3\\lib\\site-packages\\sklearn\\base.py\", line 870, in fit_transform\n",
      "    return self.fit(X, y, **fit_params).transform(X)\n",
      "  File \"C:\\Users\\eleon\\anaconda3\\lib\\site-packages\\sklearn\\feature_selection\\_univariate_selection.py\", line 471, in fit\n",
      "    self._check_params(X, y)\n",
      "  File \"C:\\Users\\eleon\\anaconda3\\lib\\site-packages\\sklearn\\feature_selection\\_univariate_selection.py\", line 667, in _check_params\n",
      "    if not (self.k == \"all\" or 0 <= self.k <= X.shape[1]):\n",
      "TypeError: '<=' not supported between instances of 'int' and 'builtin_function_or_method'\n",
      "\n",
      "  warnings.warn(some_fits_failed_message, FitFailedWarning)\n",
      "C:\\Users\\eleon\\anaconda3\\lib\\site-packages\\sklearn\\model_selection\\_search.py:953: UserWarning: One or more of the test scores are non-finite: [0.43870822        nan 0.44035868        nan 0.4442488         nan\n",
      " 0.44648832        nan 0.43764676        nan 0.43764801        nan\n",
      " 0.44200962        nan 0.44637033        nan]\n",
      "  warnings.warn(\n"
     ]
    }
   ],
   "source": [
    "param_grid = [{'sel__k': [ 10, all],\n",
    "    'learner__max_depth': [None, 100],\n",
    "    #'learner__max_features': [2, 3],\n",
    "    'learner__min_samples_leaf': [1, 4],\n",
    "    #'learner__min_samples_split': [8, 10, 12],\n",
    "    'learner__n_estimators': [100,300]}]\n",
    "\n",
    "pipe = Pipeline([\n",
    "    ('sel', SelectKBest(chi2)),  # feature selection\n",
    "    ('tfidf', TfidfTransformer()),  # weighting\n",
    "    ('learner', RandomForestClassifier(bootstrap = True))  # learning algorithm\n",
    "])\n",
    "\n",
    "n_jobs = 3 #Number of jobs to run in parallel\n",
    "pipe_search = GridSearchCV(pipe, param_grid, cv=5, n_jobs = n_jobs, verbose=True).fit(X_train,y_train)"
   ]
  },
  {
   "cell_type": "code",
   "execution_count": 15,
   "id": "5bde237d",
   "metadata": {},
   "outputs": [
    {
     "name": "stdout",
     "output_type": "stream",
     "text": [
      "Classification report:\n",
      "              precision    recall  f1-score   support\n",
      "\n",
      "           0       0.41      0.42      0.42      1237\n",
      "           1       0.38      0.33      0.35      1147\n",
      "           2       0.52      0.57      0.54      1252\n",
      "\n",
      "    accuracy                           0.44      3636\n",
      "   macro avg       0.44      0.44      0.44      3636\n",
      "weighted avg       0.44      0.44      0.44      3636\n",
      "\n",
      "Confusion matrix:\n",
      "[[522 373 342]\n",
      " [457 383 307]\n",
      " [284 257 711]]\n"
     ]
    }
   ],
   "source": [
    "predictions = pipe_search.best_estimator_.predict(X_test)\n",
    "print('Classification report:')\n",
    "print(classification_report(y_test, predictions))\n",
    "print('Confusion matrix:')\n",
    "cm = confusion_matrix(y_test, predictions)\n",
    "print(cm)"
   ]
  },
  {
   "cell_type": "code",
   "execution_count": 16,
   "id": "e110ddf1",
   "metadata": {},
   "outputs": [
    {
     "name": "stdout",
     "output_type": "stream",
     "text": [
      "Accuracy 0.5052255225522553\n",
      "F1-score [0.50540123 0.456358   0.55055716]\n",
      "              precision    recall  f1-score   support\n",
      "\n",
      "           0       0.48      0.53      0.51      1237\n",
      "           1       0.46      0.45      0.46      1147\n",
      "           2       0.57      0.53      0.55      1252\n",
      "\n",
      "    accuracy                           0.51      3636\n",
      "   macro avg       0.51      0.50      0.50      3636\n",
      "weighted avg       0.51      0.51      0.51      3636\n",
      "\n"
     ]
    }
   ],
   "source": [
    "# without pipeline\n",
    "clf = LinearSVC(C=1.0, random_state=42)\n",
    "clf.fit(embeddings, y_train)\n",
    "\n",
    "y_pred = clf.predict(test_emb)\n",
    "\n",
    "print('Accuracy %s' % accuracy_score(y_test, y_pred))\n",
    "print('F1-score %s' % f1_score(y_test, y_pred, average=None))\n",
    "print(classification_report(y_test, y_pred))"
   ]
  },
  {
   "cell_type": "code",
   "execution_count": 18,
   "id": "77c2a4b0",
   "metadata": {},
   "outputs": [
    {
     "name": "stdout",
     "output_type": "stream",
     "text": [
      "Fitting 5 folds for each of 16 candidates, totalling 80 fits\n"
     ]
    }
   ],
   "source": [
    "#with pipeline and grid serach\n",
    "param_grid = [{'sel__k': [8, 10, 50,'all'], 'learner__C': [0.1, 0.5, 1, 10]}]\n",
    "\n",
    "opt_pipeline = Pipeline([\n",
    "    \n",
    "    ('sel', SelectKBest(chi2)),  # feature selection\n",
    "    ('tfidf', TfidfTransformer()),  # weighting\n",
    "    ('learner', LinearSVC())  # learning algorithm\n",
    "])\n",
    "\n",
    "n_jobs = 3 #Number of jobs to run in parallel\n",
    "SVM_opt_search = GridSearchCV(opt_pipeline, param_grid, n_jobs = n_jobs, verbose=True).fit(X_train,y_train)"
   ]
  },
  {
   "cell_type": "code",
   "execution_count": 19,
   "id": "82f96c66",
   "metadata": {},
   "outputs": [
    {
     "name": "stdout",
     "output_type": "stream",
     "text": [
      "Classification report:\n",
      "              precision    recall  f1-score   support\n",
      "\n",
      "           0       0.48      0.51      0.50      1237\n",
      "           1       0.46      0.45      0.45      1147\n",
      "           2       0.58      0.54      0.56      1252\n",
      "\n",
      "    accuracy                           0.50      3636\n",
      "   macro avg       0.50      0.50      0.50      3636\n",
      "weighted avg       0.51      0.50      0.50      3636\n",
      "\n",
      "Confusion matrix:\n",
      "[[637 341 259]\n",
      " [394 515 238]\n",
      " [304 271 677]]\n"
     ]
    }
   ],
   "source": [
    "opt_predictions = SVM_opt_search.best_estimator_.predict(X_test)\n",
    "\n",
    "print('Classification report:')\n",
    "print(classification_report(y_test, opt_predictions, zero_division = 1))\n",
    "print('Confusion matrix:')\n",
    "cm = confusion_matrix(y_test, opt_predictions)\n",
    "print(cm)"
   ]
  },
  {
   "cell_type": "code",
   "execution_count": null,
   "id": "ead0eec2",
   "metadata": {},
   "outputs": [],
   "source": []
  }
 ],
 "metadata": {
  "kernelspec": {
   "display_name": "Python 3",
   "language": "python",
   "name": "python3"
  },
  "language_info": {
   "codemirror_mode": {
    "name": "ipython",
    "version": 3
   },
   "file_extension": ".py",
   "mimetype": "text/x-python",
   "name": "python",
   "nbconvert_exporter": "python",
   "pygments_lexer": "ipython3",
   "version": "3.8.8"
  }
 },
 "nbformat": 4,
 "nbformat_minor": 5
}
